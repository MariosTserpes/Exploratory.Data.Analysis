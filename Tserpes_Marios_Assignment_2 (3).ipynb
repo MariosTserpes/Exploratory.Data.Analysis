{
 "cells": [
  {
   "cell_type": "markdown",
   "id": "eastern-third",
   "metadata": {},
   "source": [
    "                            DATA SCIENTIST'S ROLE\n",
    "                            \n",
    "               TSERPES MARIOS - ASSIGNMENT_2 - PYTHON_COURSE"
   ]
  },
  {
   "cell_type": "code",
   "execution_count": 2,
   "id": "italic-program",
   "metadata": {},
   "outputs": [],
   "source": [
    "#Importing libraries\n",
    "import pandas as pd\n",
    "import seaborn as sns\n",
    "import matplotlib.pyplot as plt\n",
    "import numpy as np\n",
    "\n",
    "sns.set_theme(style = \"whitegrid\")"
   ]
  },
  {
   "cell_type": "code",
   "execution_count": 3,
   "id": "several-carol",
   "metadata": {},
   "outputs": [],
   "source": [
    "#Reading dataset\n",
    "df = pd.read_csv('kaggle_survey_2020_responses.csv',  usecols=[1, 2, 3, 4, 5, 6, 118], low_memory=False)"
   ]
  },
  {
   "cell_type": "code",
   "execution_count": 4,
   "id": "laughing-minneapolis",
   "metadata": {},
   "outputs": [
    {
     "name": "stdout",
     "output_type": "stream",
     "text": [
      "(20037, 7)\n"
     ]
    },
    {
     "data": {
      "text/html": [
       "<div>\n",
       "<style scoped>\n",
       "    .dataframe tbody tr th:only-of-type {\n",
       "        vertical-align: middle;\n",
       "    }\n",
       "\n",
       "    .dataframe tbody tr th {\n",
       "        vertical-align: top;\n",
       "    }\n",
       "\n",
       "    .dataframe thead th {\n",
       "        text-align: right;\n",
       "    }\n",
       "</style>\n",
       "<table border=\"1\" class=\"dataframe\">\n",
       "  <thead>\n",
       "    <tr style=\"text-align: right;\">\n",
       "      <th></th>\n",
       "      <th>Q1</th>\n",
       "      <th>Q2</th>\n",
       "      <th>Q3</th>\n",
       "      <th>Q4</th>\n",
       "      <th>Q5</th>\n",
       "      <th>Q6</th>\n",
       "      <th>Q24</th>\n",
       "    </tr>\n",
       "  </thead>\n",
       "  <tbody>\n",
       "    <tr>\n",
       "      <th>0</th>\n",
       "      <td>What is your age (# years)?</td>\n",
       "      <td>What is your gender? - Selected Choice</td>\n",
       "      <td>In which country do you currently reside?</td>\n",
       "      <td>What is the highest level of formal education ...</td>\n",
       "      <td>Select the title most similar to your current ...</td>\n",
       "      <td>For how many years have you been writing code ...</td>\n",
       "      <td>What is your current yearly compensation (appr...</td>\n",
       "    </tr>\n",
       "    <tr>\n",
       "      <th>1</th>\n",
       "      <td>35-39</td>\n",
       "      <td>Man</td>\n",
       "      <td>Colombia</td>\n",
       "      <td>Doctoral degree</td>\n",
       "      <td>Student</td>\n",
       "      <td>5-10 years</td>\n",
       "      <td>NaN</td>\n",
       "    </tr>\n",
       "    <tr>\n",
       "      <th>2</th>\n",
       "      <td>30-34</td>\n",
       "      <td>Man</td>\n",
       "      <td>United States of America</td>\n",
       "      <td>Master’s degree</td>\n",
       "      <td>Data Engineer</td>\n",
       "      <td>5-10 years</td>\n",
       "      <td>100,000-124,999</td>\n",
       "    </tr>\n",
       "  </tbody>\n",
       "</table>\n",
       "</div>"
      ],
      "text/plain": [
       "                            Q1                                      Q2  \\\n",
       "0  What is your age (# years)?  What is your gender? - Selected Choice   \n",
       "1                        35-39                                     Man   \n",
       "2                        30-34                                     Man   \n",
       "\n",
       "                                          Q3  \\\n",
       "0  In which country do you currently reside?   \n",
       "1                                   Colombia   \n",
       "2                   United States of America   \n",
       "\n",
       "                                                  Q4  \\\n",
       "0  What is the highest level of formal education ...   \n",
       "1                                    Doctoral degree   \n",
       "2                                    Master’s degree   \n",
       "\n",
       "                                                  Q5  \\\n",
       "0  Select the title most similar to your current ...   \n",
       "1                                            Student   \n",
       "2                                      Data Engineer   \n",
       "\n",
       "                                                  Q6  \\\n",
       "0  For how many years have you been writing code ...   \n",
       "1                                         5-10 years   \n",
       "2                                         5-10 years   \n",
       "\n",
       "                                                 Q24  \n",
       "0  What is your current yearly compensation (appr...  \n",
       "1                                                NaN  \n",
       "2                                    100,000-124,999  "
      ]
     },
     "execution_count": 4,
     "metadata": {},
     "output_type": "execute_result"
    }
   ],
   "source": [
    "#Checking dimensions of dataset(7 columns, 20037 obs)\n",
    "print(df.shape)\n",
    "df.head(3)"
   ]
  },
  {
   "cell_type": "code",
   "execution_count": 5,
   "id": "starting-vision",
   "metadata": {},
   "outputs": [
    {
     "name": "stdout",
     "output_type": "stream",
     "text": [
      "['Select the title most similar to your current role (or most recent title if retired): - Selected Choice'\n",
      " 'Student' 'Data Engineer' 'Software Engineer' 'Data Scientist'\n",
      " 'Data Analyst' 'Research Scientist' 'Other' 'Currently not employed'\n",
      " 'Statistician' 'Product/Project Manager' 'Machine Learning Engineer' nan\n",
      " 'Business Analyst' 'DBA/Database Engineer']\n"
     ]
    }
   ],
   "source": [
    "#But our analysis will focus on a particular role\n",
    "print(df['Q5'].unique())"
   ]
  },
  {
   "cell_type": "markdown",
   "id": "hazardous-idaho",
   "metadata": {},
   "source": [
    "                               DATA SCIENTIST"
   ]
  },
  {
   "cell_type": "code",
   "execution_count": 6,
   "id": "valuable-antigua",
   "metadata": {},
   "outputs": [
    {
     "name": "stdout",
     "output_type": "stream",
     "text": [
      "(2676, 7)\n"
     ]
    },
    {
     "data": {
      "text/html": [
       "<div>\n",
       "<style scoped>\n",
       "    .dataframe tbody tr th:only-of-type {\n",
       "        vertical-align: middle;\n",
       "    }\n",
       "\n",
       "    .dataframe tbody tr th {\n",
       "        vertical-align: top;\n",
       "    }\n",
       "\n",
       "    .dataframe thead th {\n",
       "        text-align: right;\n",
       "    }\n",
       "</style>\n",
       "<table border=\"1\" class=\"dataframe\">\n",
       "  <thead>\n",
       "    <tr style=\"text-align: right;\">\n",
       "      <th></th>\n",
       "      <th>Q1</th>\n",
       "      <th>Q2</th>\n",
       "      <th>Q3</th>\n",
       "      <th>Q4</th>\n",
       "      <th>Q5</th>\n",
       "      <th>Q6</th>\n",
       "      <th>Q24</th>\n",
       "    </tr>\n",
       "  </thead>\n",
       "  <tbody>\n",
       "    <tr>\n",
       "      <th>0</th>\n",
       "      <td>30-34</td>\n",
       "      <td>Man</td>\n",
       "      <td>United States of America</td>\n",
       "      <td>Master’s degree</td>\n",
       "      <td>Data Scientist</td>\n",
       "      <td>5-10 years</td>\n",
       "      <td>125,000-149,999</td>\n",
       "    </tr>\n",
       "    <tr>\n",
       "      <th>1</th>\n",
       "      <td>35-39</td>\n",
       "      <td>Man</td>\n",
       "      <td>Germany</td>\n",
       "      <td>Doctoral degree</td>\n",
       "      <td>Data Scientist</td>\n",
       "      <td>5-10 years</td>\n",
       "      <td>70,000-79,999</td>\n",
       "    </tr>\n",
       "    <tr>\n",
       "      <th>2</th>\n",
       "      <td>30-34</td>\n",
       "      <td>Man</td>\n",
       "      <td>Russia</td>\n",
       "      <td>Bachelor’s degree</td>\n",
       "      <td>Data Scientist</td>\n",
       "      <td>&lt; 1 years</td>\n",
       "      <td>$0-999</td>\n",
       "    </tr>\n",
       "    <tr>\n",
       "      <th>3</th>\n",
       "      <td>22-24</td>\n",
       "      <td>Man</td>\n",
       "      <td>Indonesia</td>\n",
       "      <td>Master’s degree</td>\n",
       "      <td>Data Scientist</td>\n",
       "      <td>3-5 years</td>\n",
       "      <td>4,000-4,999</td>\n",
       "    </tr>\n",
       "    <tr>\n",
       "      <th>4</th>\n",
       "      <td>18-21</td>\n",
       "      <td>Man</td>\n",
       "      <td>India</td>\n",
       "      <td>Bachelor’s degree</td>\n",
       "      <td>Data Scientist</td>\n",
       "      <td>3-5 years</td>\n",
       "      <td>&gt; $500,000</td>\n",
       "    </tr>\n",
       "  </tbody>\n",
       "</table>\n",
       "</div>"
      ],
      "text/plain": [
       "      Q1   Q2                        Q3                 Q4              Q5  \\\n",
       "0  30-34  Man  United States of America    Master’s degree  Data Scientist   \n",
       "1  35-39  Man                   Germany    Doctoral degree  Data Scientist   \n",
       "2  30-34  Man                    Russia  Bachelor’s degree  Data Scientist   \n",
       "3  22-24  Man                 Indonesia    Master’s degree  Data Scientist   \n",
       "4  18-21  Man                     India  Bachelor’s degree  Data Scientist   \n",
       "\n",
       "           Q6              Q24  \n",
       "0  5-10 years  125,000-149,999  \n",
       "1  5-10 years    70,000-79,999  \n",
       "2   < 1 years           $0-999  \n",
       "3   3-5 years      4,000-4,999  \n",
       "4   3-5 years       > $500,000  "
      ]
     },
     "execution_count": 6,
     "metadata": {},
     "output_type": "execute_result"
    }
   ],
   "source": [
    "#Creating a new subset based on Data Scientist role\n",
    "dsc_df = df[df['Q5'] == 'Data Scientist'].reset_index(drop=True)\n",
    "print(dsc_df.shape)\n",
    "dsc_df.head(5)"
   ]
  },
  {
   "cell_type": "markdown",
   "id": "loved-connectivity",
   "metadata": {},
   "source": [
    "                        DATA CLEANING AND DATA PREPARATION"
   ]
  },
  {
   "cell_type": "code",
   "execution_count": 7,
   "id": "structural-corporation",
   "metadata": {},
   "outputs": [],
   "source": [
    "#Creating a simple function in order to explore NaN values\n",
    "def number_nan(subset):\n",
    "    for column in dsc_df: \n",
    "        print(f\"The column {column} has {dsc_df[column].isnull().sum()} NaN values\" )"
   ]
  },
  {
   "cell_type": "code",
   "execution_count": 8,
   "id": "meaningful-assistant",
   "metadata": {},
   "outputs": [
    {
     "name": "stdout",
     "output_type": "stream",
     "text": [
      "The column Q1 has 0 NaN values\n",
      "The column Q2 has 0 NaN values\n",
      "The column Q3 has 0 NaN values\n",
      "The column Q4 has 0 NaN values\n",
      "The column Q5 has 0 NaN values\n",
      "The column Q6 has 17 NaN values\n",
      "The column Q24 has 278 NaN values\n"
     ]
    }
   ],
   "source": [
    "#Calling defined function for NaN Values in subset\n",
    "number_nan(df)"
   ]
  },
  {
   "cell_type": "code",
   "execution_count": 9,
   "id": "unique-guide",
   "metadata": {},
   "outputs": [],
   "source": [
    "#Removing NaN values and reindexing\n",
    "dsc_df = dsc_df.dropna().reset_index(drop=True)"
   ]
  },
  {
   "cell_type": "code",
   "execution_count": 10,
   "id": "atlantic-offense",
   "metadata": {},
   "outputs": [
    {
     "name": "stdout",
     "output_type": "stream",
     "text": [
      "The column Q1 has 0 NaN values\n",
      "The column Q2 has 0 NaN values\n",
      "The column Q3 has 0 NaN values\n",
      "The column Q4 has 0 NaN values\n",
      "The column Q5 has 0 NaN values\n",
      "The column Q6 has 0 NaN values\n",
      "The column Q24 has 0 NaN values\n"
     ]
    }
   ],
   "source": [
    "#Checking again the number of NaN values\n",
    "number_nan(df)"
   ]
  },
  {
   "cell_type": "markdown",
   "id": "assured-theorem",
   "metadata": {},
   "source": [
    "                             DATA TRANSFORMATION"
   ]
  },
  {
   "cell_type": "code",
   "execution_count": 11,
   "id": "sunrise-blackjack",
   "metadata": {},
   "outputs": [
    {
     "data": {
      "text/plain": [
       "Index(['Q1', 'Q2', 'Q3', 'Q4', 'Q5', 'Q6', 'Q24'], dtype='object')"
      ]
     },
     "execution_count": 11,
     "metadata": {},
     "output_type": "execute_result"
    }
   ],
   "source": [
    "dsc_df.columns #Looking the names of columns"
   ]
  },
  {
   "cell_type": "code",
   "execution_count": 12,
   "id": "numeric-cameroon",
   "metadata": {},
   "outputs": [
    {
     "data": {
      "text/plain": [
       "['age', 'sex', 'country', 'education', 'role', 'prog_exp', 'annual_salary']"
      ]
     },
     "execution_count": 12,
     "metadata": {},
     "output_type": "execute_result"
    }
   ],
   "source": [
    "#Creating a list with new names\n",
    "list_of_new_column_names = ['age', 'sex', 'country', 'education', 'role', 'prog_exp', 'annual_salary']\n",
    "list_of_new_column_names"
   ]
  },
  {
   "cell_type": "code",
   "execution_count": 13,
   "id": "least-liberia",
   "metadata": {},
   "outputs": [
    {
     "data": {
      "text/plain": [
       "{'Q1': 'age',\n",
       " 'Q2': 'sex',\n",
       " 'Q3': 'country',\n",
       " 'Q4': 'education',\n",
       " 'Q5': 'role',\n",
       " 'Q6': 'prog_exp',\n",
       " 'Q24': 'annual_salary'}"
      ]
     },
     "execution_count": 13,
     "metadata": {},
     "output_type": "execute_result"
    }
   ],
   "source": [
    "#Creating a dictionary initial names of columns and list of new names\n",
    "dict_with_new_names = dict(zip(list(dsc_df.columns), list_of_new_column_names))\n",
    "dict_with_new_names"
   ]
  },
  {
   "cell_type": "code",
   "execution_count": 14,
   "id": "asian-developer",
   "metadata": {},
   "outputs": [
    {
     "data": {
      "text/plain": [
       "Index(['age', 'sex', 'country', 'education', 'role', 'prog_exp',\n",
       "       'annual_salary'],\n",
       "      dtype='object')"
      ]
     },
     "execution_count": 14,
     "metadata": {},
     "output_type": "execute_result"
    }
   ],
   "source": [
    "#Renaming columns of subset\n",
    "dsc_df = dsc_df.rename(columns = dict_with_new_names)\n",
    "dsc_df.columns"
   ]
  },
  {
   "cell_type": "markdown",
   "id": "existing-trick",
   "metadata": {},
   "source": [
    "                         Regarding the content of the Gender column."
   ]
  },
  {
   "cell_type": "code",
   "execution_count": 15,
   "id": "posted-lawyer",
   "metadata": {},
   "outputs": [
    {
     "data": {
      "text/plain": [
       "array(['Man', 'Woman', 'Nonbinary', 'Prefer to self-describe',\n",
       "       'Prefer not to say'], dtype=object)"
      ]
     },
     "execution_count": 15,
     "metadata": {},
     "output_type": "execute_result"
    }
   ],
   "source": [
    "#unique values of sex column\n",
    "dsc_df['sex'].unique()"
   ]
  },
  {
   "cell_type": "code",
   "execution_count": 16,
   "id": "false-conclusion",
   "metadata": {},
   "outputs": [],
   "source": [
    "#Rename 'Nonbinary', 'Prefer to self-describe', 'Prefer not to say' to \"Other\"\n",
    "dsc_df['sex'] = dsc_df['sex'].replace( {'Man' : 'Man',\n",
    "                    'Woman' : 'Woman',\n",
    "                    'Nonbinary' : 'Other',\n",
    "                    'Prefer to self-describe': 'Other',\n",
    "                    'Prefer not to say' : 'Other'})"
   ]
  },
  {
   "cell_type": "markdown",
   "id": "inappropriate-right",
   "metadata": {},
   "source": [
    "                       Regarding the content of annual salary column"
   ]
  },
  {
   "cell_type": "code",
   "execution_count": 17,
   "id": "tested-nylon",
   "metadata": {},
   "outputs": [
    {
     "data": {
      "text/plain": [
       "array(['125,000-149,999', '70,000-79,999', '$0-999', '4,000-4,999',\n",
       "       '> $500,000', '60,000-69,999', '40,000-49,999', '80,000-89,999',\n",
       "       '100,000-124,999', '250,000-299,999', '50,000-59,999',\n",
       "       '5,000-7,499', '2,000-2,999', '20,000-24,999', '15,000-19,999',\n",
       "       '25,000-29,999', '10,000-14,999', '200,000-249,999',\n",
       "       '300,000-500,000', '150,000-199,999', '90,000-99,999',\n",
       "       '30,000-39,999', '1,000-1,999', '7,500-9,999', '3,000-3,999'],\n",
       "      dtype=object)"
      ]
     },
     "execution_count": 17,
     "metadata": {},
     "output_type": "execute_result"
    }
   ],
   "source": [
    "dsc_df['annual_salary'].unique()"
   ]
  },
  {
   "cell_type": "code",
   "execution_count": 18,
   "id": "twelve-stupid",
   "metadata": {},
   "outputs": [
    {
     "data": {
      "text/plain": [
       "{'125,000-149,999': '125000-149999',\n",
       " '70,000-79,999': '70000-79999',\n",
       " '$0-999': '0-999',\n",
       " '4,000-4,999': '4000-4999',\n",
       " '> $500,000': '500000-999999',\n",
       " '60,000-69,999': '60000-69999',\n",
       " '40,000-49,999': '40000-49999',\n",
       " '80,000-89,999': '80000-89999',\n",
       " '100,000-124,999': '100000-124999',\n",
       " '250,000-299,999': '250000-299999',\n",
       " '50,000-59,999': '50000-59999',\n",
       " '5,000-7,499': '5000-7499',\n",
       " '2,000-2,999': '2000-2999',\n",
       " '20,000-24,999': '20000-24999',\n",
       " '15,000-19,999': '15000-19999',\n",
       " '25,000-29,999': '25000-29999',\n",
       " '10,000-14,999': '10000-14999',\n",
       " '200,000-249,999': '200000-249999',\n",
       " '300,000-500,000': '300000-499999',\n",
       " '150,000-199,999': '150000-199999',\n",
       " '90,000-99,999': '90000-99999',\n",
       " '30,000-39,999': '30000-39999',\n",
       " '1,000-1,999': '1000-1999',\n",
       " '7,500-9,999': '7500-9999',\n",
       " '3,000-3,999': '3000-3999'}"
      ]
     },
     "execution_count": 18,
     "metadata": {},
     "output_type": "execute_result"
    }
   ],
   "source": [
    "list_of_new_salary = [\n",
    "    '125000-149999', '70000-79999',\n",
    "    '0-999', '4000-4999', \n",
    "    '500000-999999', '60000-69999',\n",
    "    '40000-49999', '80000-89999', \n",
    "    '100000-124999', '250000-299999', \n",
    "    '50000-59999', '5000-7499', \n",
    "    '2000-2999', '20000-24999', \n",
    "    '15000-19999', '25000-29999', \n",
    "    '10000-14999', '200000-249999', \n",
    "    '300000-499999', '150000-199999', \n",
    "    '90000-99999', '30000-39999', \n",
    "    '1000-1999', '7500-9999', '3000-3999'\n",
    "]\n",
    "\n",
    "dict_of_new_annual_salary = dict(zip(dsc_df['annual_salary'].unique().tolist(), list_of_new_salary))\n",
    "dict_of_new_annual_salary   "
   ]
  },
  {
   "cell_type": "code",
   "execution_count": 19,
   "id": "composed-collection",
   "metadata": {},
   "outputs": [
    {
     "data": {
      "text/html": [
       "<div>\n",
       "<style scoped>\n",
       "    .dataframe tbody tr th:only-of-type {\n",
       "        vertical-align: middle;\n",
       "    }\n",
       "\n",
       "    .dataframe tbody tr th {\n",
       "        vertical-align: top;\n",
       "    }\n",
       "\n",
       "    .dataframe thead th {\n",
       "        text-align: right;\n",
       "    }\n",
       "</style>\n",
       "<table border=\"1\" class=\"dataframe\">\n",
       "  <thead>\n",
       "    <tr style=\"text-align: right;\">\n",
       "      <th></th>\n",
       "      <th>age</th>\n",
       "      <th>sex</th>\n",
       "      <th>country</th>\n",
       "      <th>education</th>\n",
       "      <th>role</th>\n",
       "      <th>prog_exp</th>\n",
       "      <th>annual_salary</th>\n",
       "    </tr>\n",
       "  </thead>\n",
       "  <tbody>\n",
       "    <tr>\n",
       "      <th>0</th>\n",
       "      <td>30-34</td>\n",
       "      <td>Man</td>\n",
       "      <td>United States of America</td>\n",
       "      <td>Master’s degree</td>\n",
       "      <td>Data Scientist</td>\n",
       "      <td>5-10 years</td>\n",
       "      <td>125000-149999</td>\n",
       "    </tr>\n",
       "    <tr>\n",
       "      <th>1</th>\n",
       "      <td>35-39</td>\n",
       "      <td>Man</td>\n",
       "      <td>Germany</td>\n",
       "      <td>Doctoral degree</td>\n",
       "      <td>Data Scientist</td>\n",
       "      <td>5-10 years</td>\n",
       "      <td>70000-79999</td>\n",
       "    </tr>\n",
       "  </tbody>\n",
       "</table>\n",
       "</div>"
      ],
      "text/plain": [
       "     age  sex                   country        education            role  \\\n",
       "0  30-34  Man  United States of America  Master’s degree  Data Scientist   \n",
       "1  35-39  Man                   Germany  Doctoral degree  Data Scientist   \n",
       "\n",
       "     prog_exp  annual_salary  \n",
       "0  5-10 years  125000-149999  \n",
       "1  5-10 years    70000-79999  "
      ]
     },
     "execution_count": 19,
     "metadata": {},
     "output_type": "execute_result"
    }
   ],
   "source": [
    "dsc_df['annual_salary'] = dsc_df['annual_salary'].replace(dict_of_new_annual_salary)\n",
    "dsc_df.head(2)"
   ]
  },
  {
   "cell_type": "markdown",
   "id": "invisible-remains",
   "metadata": {},
   "source": [
    "                     Regarding the content of prog_xp column"
   ]
  },
  {
   "cell_type": "code",
   "execution_count": 20,
   "id": "heated-essay",
   "metadata": {},
   "outputs": [
    {
     "data": {
      "text/plain": [
       "array(['5-10 years', '< 1 years', '3-5 years', '10-20 years', '1-2 years',\n",
       "       '20+ years', 'I have never written code'], dtype=object)"
      ]
     },
     "execution_count": 20,
     "metadata": {},
     "output_type": "execute_result"
    }
   ],
   "source": [
    "dsc_df['prog_exp'].unique()"
   ]
  },
  {
   "cell_type": "code",
   "execution_count": 21,
   "id": "external-large",
   "metadata": {},
   "outputs": [
    {
     "data": {
      "text/plain": [
       "['5-10', '<1', '3-5', '10-20', '1-2', '>20', '0']"
      ]
     },
     "execution_count": 21,
     "metadata": {},
     "output_type": "execute_result"
    }
   ],
   "source": [
    "#creating a list with new names \n",
    "list_of_prog_exp_renames = ['5-10', '<1', '3-5', '10-20', '1-2', '>20', '0']\n",
    "list_of_prog_exp_renames"
   ]
  },
  {
   "cell_type": "code",
   "execution_count": 22,
   "id": "occupational-sheet",
   "metadata": {},
   "outputs": [
    {
     "data": {
      "text/plain": [
       "['5-10 years',\n",
       " '< 1 years',\n",
       " '3-5 years',\n",
       " '10-20 years',\n",
       " '1-2 years',\n",
       " '20+ years',\n",
       " 'I have never written code']"
      ]
     },
     "execution_count": 22,
     "metadata": {},
     "output_type": "execute_result"
    }
   ],
   "source": [
    "#Creating a list with initial values\n",
    "list_of_prog_exp = dsc_df['prog_exp'].unique().tolist()\n",
    "list_of_prog_exp"
   ]
  },
  {
   "cell_type": "code",
   "execution_count": 23,
   "id": "transsexual-gregory",
   "metadata": {},
   "outputs": [
    {
     "data": {
      "text/plain": [
       "{'5-10 years': '5-10',\n",
       " '< 1 years': '<1',\n",
       " '3-5 years': '3-5',\n",
       " '10-20 years': '10-20',\n",
       " '1-2 years': '1-2',\n",
       " '20+ years': '>20',\n",
       " 'I have never written code': '0'}"
      ]
     },
     "execution_count": 23,
     "metadata": {},
     "output_type": "execute_result"
    }
   ],
   "source": [
    "#Creating a dictionary in order to be used in replace() function , below.\n",
    "dict_of_new_prog_exp_renames = dict(zip(list_of_prog_exp, list_of_prog_exp_renames))\n",
    "dict_of_new_prog_exp_renames"
   ]
  },
  {
   "cell_type": "code",
   "execution_count": 24,
   "id": "oriented-general",
   "metadata": {},
   "outputs": [
    {
     "data": {
      "text/plain": [
       "array(['5-10', '<1', '3-5', '10-20', '1-2', '>20', '0'], dtype=object)"
      ]
     },
     "execution_count": 24,
     "metadata": {},
     "output_type": "execute_result"
    }
   ],
   "source": [
    "#Replacing values of prog_exp column\n",
    "dsc_df['prog_exp'] = dsc_df['prog_exp'].replace(dict_of_new_prog_exp_renames)\n",
    "dsc_df.prog_exp.unique()"
   ]
  },
  {
   "cell_type": "markdown",
   "id": "czech-ceiling",
   "metadata": {},
   "source": [
    "                      Regarding the content of country column"
   ]
  },
  {
   "cell_type": "code",
   "execution_count": 25,
   "id": "laughing-return",
   "metadata": {},
   "outputs": [],
   "source": [
    "#Dictionary For the values in the column I want to rename\n",
    "new_names_replacements = {\n",
    "    'United States of America': 'USA',\n",
    "    'Iran, Islamic Republic of...': 'Iran',\n",
    "    'United Kingdom of Great Britain and Northern Ireland': 'UK',\n",
    "    'Viet Nam': 'Vietnam',\n",
    "    \"Republic of Korea\": \"Korea, Republic of\",\n",
    "    \"South Korea\": \"Korea, Republic of\"\n",
    "}"
   ]
  },
  {
   "cell_type": "code",
   "execution_count": 26,
   "id": "continuous-tower",
   "metadata": {},
   "outputs": [
    {
     "data": {
      "text/plain": [
       "array(['USA', 'Germany', 'Russia', 'Indonesia', 'India', 'Ukraine',\n",
       "       'China', 'Colombia', 'Canada', 'Egypt', 'Nigeria', 'Turkey',\n",
       "       'Spain', 'Iran', 'Other', 'Romania', 'UK', 'Sweden', 'Netherlands',\n",
       "       'France', 'Japan', 'South Africa', 'Poland', 'Mexico',\n",
       "       'Korea, Republic of', 'Argentina', 'Brazil', 'Vietnam', 'Malaysia',\n",
       "       'Switzerland', 'Australia', 'Bangladesh', 'Italy', 'Morocco',\n",
       "       'Pakistan', 'Israel', 'Tunisia', 'Kenya', 'Chile', 'Ireland',\n",
       "       'Belarus', 'Singapore', 'Saudi Arabia', 'Thailand', 'Taiwan',\n",
       "       'Portugal', 'Belgium', 'Ghana', 'Greece', 'United Arab Emirates',\n",
       "       'Nepal', 'Philippines', 'Peru', 'Sri Lanka'], dtype=object)"
      ]
     },
     "execution_count": 26,
     "metadata": {},
     "output_type": "execute_result"
    }
   ],
   "source": [
    "#Replacing\n",
    "dsc_df['country'] = dsc_df['country'].replace(new_names_replacements)\n",
    "dsc_df['country'].unique()"
   ]
  },
  {
   "cell_type": "markdown",
   "id": "obvious-advocacy",
   "metadata": {},
   "source": [
    "                       Regarding the content of education level column"
   ]
  },
  {
   "cell_type": "code",
   "execution_count": 27,
   "id": "virtual-bermuda",
   "metadata": {},
   "outputs": [
    {
     "data": {
      "text/plain": [
       "array(['Master’s degree', 'Doctoral degree', 'Bachelor’s degree',\n",
       "       'Some college/university study without earning a bachelor’s degree',\n",
       "       'I prefer not to answer', 'Professional degree',\n",
       "       'No formal education past high school'], dtype=object)"
      ]
     },
     "execution_count": 27,
     "metadata": {},
     "output_type": "execute_result"
    }
   ],
   "source": [
    "dsc_df.education.unique()"
   ]
  },
  {
   "cell_type": "code",
   "execution_count": 28,
   "id": "polished-sarah",
   "metadata": {},
   "outputs": [
    {
     "data": {
      "text/plain": [
       "array(['MSc', 'PHD', 'BSc', 'Other'], dtype=object)"
      ]
     },
     "execution_count": 28,
     "metadata": {},
     "output_type": "execute_result"
    }
   ],
   "source": [
    "#I make the assumption that at least is required a BSc degree for Data Scientists role\n",
    "dsc_df['education'] = dsc_df['education'].replace({'Master’s degree' : 'MSc', \n",
    "                          'Doctoral degree' : 'PHD',\n",
    "                          'Bachelor’s degree' : 'BSc',\n",
    "                          'Some college/university study without earning a bachelor’s degree' : 'Other',\n",
    "                          'I prefer not to answer' : 'Other', \n",
    "                          'Professional degree' : 'Other', \n",
    "                          'No formal education past high school' : 'Other'})\n",
    "\n",
    "dsc_df['education'].unique()"
   ]
  },
  {
   "cell_type": "code",
   "execution_count": null,
   "id": "turned-agent",
   "metadata": {},
   "outputs": [],
   "source": []
  },
  {
   "cell_type": "markdown",
   "id": "confirmed-forward",
   "metadata": {},
   "source": [
    "                   Delete rows that do not meet logic.\n",
    "In this case we have participants less that 24 years with experience greater that 10 years."
   ]
  },
  {
   "cell_type": "code",
   "execution_count": 29,
   "id": "composite-basis",
   "metadata": {},
   "outputs": [
    {
     "data": {
      "text/html": [
       "<div>\n",
       "<style scoped>\n",
       "    .dataframe tbody tr th:only-of-type {\n",
       "        vertical-align: middle;\n",
       "    }\n",
       "\n",
       "    .dataframe tbody tr th {\n",
       "        vertical-align: top;\n",
       "    }\n",
       "\n",
       "    .dataframe thead th {\n",
       "        text-align: right;\n",
       "    }\n",
       "</style>\n",
       "<table border=\"1\" class=\"dataframe\">\n",
       "  <thead>\n",
       "    <tr style=\"text-align: right;\">\n",
       "      <th></th>\n",
       "      <th>age</th>\n",
       "      <th>sex</th>\n",
       "      <th>country</th>\n",
       "      <th>education</th>\n",
       "      <th>role</th>\n",
       "      <th>prog_exp</th>\n",
       "      <th>annual_salary</th>\n",
       "    </tr>\n",
       "  </thead>\n",
       "  <tbody>\n",
       "    <tr>\n",
       "      <th>175</th>\n",
       "      <td>18-21</td>\n",
       "      <td>Man</td>\n",
       "      <td>India</td>\n",
       "      <td>MSc</td>\n",
       "      <td>Data Scientist</td>\n",
       "      <td>10-20</td>\n",
       "      <td>0-999</td>\n",
       "    </tr>\n",
       "    <tr>\n",
       "      <th>1013</th>\n",
       "      <td>22-24</td>\n",
       "      <td>Man</td>\n",
       "      <td>India</td>\n",
       "      <td>MSc</td>\n",
       "      <td>Data Scientist</td>\n",
       "      <td>&gt;20</td>\n",
       "      <td>0-999</td>\n",
       "    </tr>\n",
       "    <tr>\n",
       "      <th>1020</th>\n",
       "      <td>18-21</td>\n",
       "      <td>Man</td>\n",
       "      <td>UK</td>\n",
       "      <td>Other</td>\n",
       "      <td>Data Scientist</td>\n",
       "      <td>&gt;20</td>\n",
       "      <td>30000-39999</td>\n",
       "    </tr>\n",
       "    <tr>\n",
       "      <th>1140</th>\n",
       "      <td>22-24</td>\n",
       "      <td>Woman</td>\n",
       "      <td>Japan</td>\n",
       "      <td>Other</td>\n",
       "      <td>Data Scientist</td>\n",
       "      <td>10-20</td>\n",
       "      <td>300000-499999</td>\n",
       "    </tr>\n",
       "    <tr>\n",
       "      <th>1676</th>\n",
       "      <td>18-21</td>\n",
       "      <td>Man</td>\n",
       "      <td>Indonesia</td>\n",
       "      <td>Other</td>\n",
       "      <td>Data Scientist</td>\n",
       "      <td>10-20</td>\n",
       "      <td>1000-1999</td>\n",
       "    </tr>\n",
       "  </tbody>\n",
       "</table>\n",
       "</div>"
      ],
      "text/plain": [
       "        age    sex    country education            role prog_exp  \\\n",
       "175   18-21    Man      India       MSc  Data Scientist    10-20   \n",
       "1013  22-24    Man      India       MSc  Data Scientist      >20   \n",
       "1020  18-21    Man         UK     Other  Data Scientist      >20   \n",
       "1140  22-24  Woman      Japan     Other  Data Scientist    10-20   \n",
       "1676  18-21    Man  Indonesia     Other  Data Scientist    10-20   \n",
       "\n",
       "      annual_salary  \n",
       "175           0-999  \n",
       "1013          0-999  \n",
       "1020    30000-39999  \n",
       "1140  300000-499999  \n",
       "1676      1000-1999  "
      ]
     },
     "execution_count": 29,
     "metadata": {},
     "output_type": "execute_result"
    }
   ],
   "source": [
    "#Condition : less of 24 and more than ten yersd of prog_exp\n",
    "too_young_too_high_exp = (dsc_df[\n",
    "    (dsc_df['age'] <= '24')\n",
    "    & ((dsc_df['prog_exp'] == '10-20')\n",
    "    | (dsc_df['prog_exp'] == '>20'))\n",
    "])\n",
    "too_young_too_high_exp"
   ]
  },
  {
   "cell_type": "code",
   "execution_count": 30,
   "id": "renewable-auditor",
   "metadata": {},
   "outputs": [
    {
     "data": {
      "text/plain": [
       "(2393, 7)"
      ]
     },
     "execution_count": 30,
     "metadata": {},
     "output_type": "execute_result"
    }
   ],
   "source": [
    "#dropping these values from our subset\n",
    "dsc_df = dsc_df.drop(index = [175, 1013, 1020, 1140, 1676])\n",
    "\n",
    "dsc_df.shape #as we can see we have already drop rows referring to the index"
   ]
  },
  {
   "cell_type": "code",
   "execution_count": 31,
   "id": "metropolitan-religion",
   "metadata": {},
   "outputs": [
    {
     "data": {
      "text/html": [
       "<div>\n",
       "<style scoped>\n",
       "    .dataframe tbody tr th:only-of-type {\n",
       "        vertical-align: middle;\n",
       "    }\n",
       "\n",
       "    .dataframe tbody tr th {\n",
       "        vertical-align: top;\n",
       "    }\n",
       "\n",
       "    .dataframe thead th {\n",
       "        text-align: right;\n",
       "    }\n",
       "</style>\n",
       "<table border=\"1\" class=\"dataframe\">\n",
       "  <thead>\n",
       "    <tr style=\"text-align: right;\">\n",
       "      <th></th>\n",
       "      <th>age</th>\n",
       "      <th>sex</th>\n",
       "      <th>country</th>\n",
       "      <th>education</th>\n",
       "      <th>role</th>\n",
       "      <th>prog_exp</th>\n",
       "      <th>annual_salary</th>\n",
       "    </tr>\n",
       "  </thead>\n",
       "  <tbody>\n",
       "    <tr>\n",
       "      <th>4</th>\n",
       "      <td>18-21</td>\n",
       "      <td>Man</td>\n",
       "      <td>India</td>\n",
       "      <td>BSc</td>\n",
       "      <td>Data Scientist</td>\n",
       "      <td>3-5</td>\n",
       "      <td>500000-999999</td>\n",
       "    </tr>\n",
       "    <tr>\n",
       "      <th>38</th>\n",
       "      <td>22-24</td>\n",
       "      <td>Man</td>\n",
       "      <td>India</td>\n",
       "      <td>BSc</td>\n",
       "      <td>Data Scientist</td>\n",
       "      <td>1-2</td>\n",
       "      <td>500000-999999</td>\n",
       "    </tr>\n",
       "    <tr>\n",
       "      <th>60</th>\n",
       "      <td>18-21</td>\n",
       "      <td>Man</td>\n",
       "      <td>India</td>\n",
       "      <td>BSc</td>\n",
       "      <td>Data Scientist</td>\n",
       "      <td>&lt;1</td>\n",
       "      <td>300000-499999</td>\n",
       "    </tr>\n",
       "    <tr>\n",
       "      <th>257</th>\n",
       "      <td>18-21</td>\n",
       "      <td>Man</td>\n",
       "      <td>USA</td>\n",
       "      <td>BSc</td>\n",
       "      <td>Data Scientist</td>\n",
       "      <td>5-10</td>\n",
       "      <td>300000-499999</td>\n",
       "    </tr>\n",
       "    <tr>\n",
       "      <th>414</th>\n",
       "      <td>18-21</td>\n",
       "      <td>Woman</td>\n",
       "      <td>USA</td>\n",
       "      <td>MSc</td>\n",
       "      <td>Data Scientist</td>\n",
       "      <td>3-5</td>\n",
       "      <td>250000-299999</td>\n",
       "    </tr>\n",
       "    <tr>\n",
       "      <th>1241</th>\n",
       "      <td>22-24</td>\n",
       "      <td>Man</td>\n",
       "      <td>India</td>\n",
       "      <td>BSc</td>\n",
       "      <td>Data Scientist</td>\n",
       "      <td>3-5</td>\n",
       "      <td>500000-999999</td>\n",
       "    </tr>\n",
       "  </tbody>\n",
       "</table>\n",
       "</div>"
      ],
      "text/plain": [
       "        age    sex country education            role prog_exp  annual_salary\n",
       "4     18-21    Man   India       BSc  Data Scientist      3-5  500000-999999\n",
       "38    22-24    Man   India       BSc  Data Scientist      1-2  500000-999999\n",
       "60    18-21    Man   India       BSc  Data Scientist       <1  300000-499999\n",
       "257   18-21    Man     USA       BSc  Data Scientist     5-10  300000-499999\n",
       "414   18-21  Woman     USA       MSc  Data Scientist      3-5  250000-299999\n",
       "1241  22-24    Man   India       BSc  Data Scientist      3-5  500000-999999"
      ]
     },
     "execution_count": 31,
     "metadata": {},
     "output_type": "execute_result"
    }
   ],
   "source": [
    "#Examining young participants with extremely high annual salary\n",
    "too_young_too_high_salary = (dsc_df[\n",
    "    (dsc_df['age'] <= '24')\n",
    "       & ((dsc_df['annual_salary'] == '250000-299999') \n",
    "       | (dsc_df['annual_salary'] == '300000-499999') \n",
    "       | (dsc_df['annual_salary'] == '500000-999999'))\n",
    "])\n",
    "\n",
    "too_young_too_high_salary"
   ]
  },
  {
   "cell_type": "code",
   "execution_count": 32,
   "id": "flying-clinton",
   "metadata": {},
   "outputs": [
    {
     "data": {
      "text/plain": [
       "(2387, 7)"
      ]
     },
     "execution_count": 32,
     "metadata": {},
     "output_type": "execute_result"
    }
   ],
   "source": [
    "#Dropping too young participants with too high salary from the data set\n",
    "dsc_df = dsc_df.drop(index = [4, 38, 60, 257, 414, 1241])\n",
    "dsc_df.shape"
   ]
  },
  {
   "cell_type": "markdown",
   "id": "demanding-junction",
   "metadata": {},
   "source": [
    "One additional problem of the subset is that there are answers that display too high salary and , simultaneously , too low programming experience. The assumption  is based on the fact that an annual salary of more than 250 thousand does not correspond to reality."
   ]
  },
  {
   "cell_type": "code",
   "execution_count": 33,
   "id": "indirect-contribution",
   "metadata": {},
   "outputs": [
    {
     "data": {
      "text/html": [
       "<div>\n",
       "<style scoped>\n",
       "    .dataframe tbody tr th:only-of-type {\n",
       "        vertical-align: middle;\n",
       "    }\n",
       "\n",
       "    .dataframe tbody tr th {\n",
       "        vertical-align: top;\n",
       "    }\n",
       "\n",
       "    .dataframe thead th {\n",
       "        text-align: right;\n",
       "    }\n",
       "</style>\n",
       "<table border=\"1\" class=\"dataframe\">\n",
       "  <thead>\n",
       "    <tr style=\"text-align: right;\">\n",
       "      <th></th>\n",
       "      <th>age</th>\n",
       "      <th>sex</th>\n",
       "      <th>country</th>\n",
       "      <th>education</th>\n",
       "      <th>role</th>\n",
       "      <th>prog_exp</th>\n",
       "      <th>annual_salary</th>\n",
       "    </tr>\n",
       "  </thead>\n",
       "  <tbody>\n",
       "    <tr>\n",
       "      <th>437</th>\n",
       "      <td>25-29</td>\n",
       "      <td>Man</td>\n",
       "      <td>Pakistan</td>\n",
       "      <td>BSc</td>\n",
       "      <td>Data Scientist</td>\n",
       "      <td>1-2</td>\n",
       "      <td>500000-999999</td>\n",
       "    </tr>\n",
       "    <tr>\n",
       "      <th>768</th>\n",
       "      <td>25-29</td>\n",
       "      <td>Man</td>\n",
       "      <td>Thailand</td>\n",
       "      <td>MSc</td>\n",
       "      <td>Data Scientist</td>\n",
       "      <td>0</td>\n",
       "      <td>500000-999999</td>\n",
       "    </tr>\n",
       "  </tbody>\n",
       "</table>\n",
       "</div>"
      ],
      "text/plain": [
       "       age  sex   country education            role prog_exp  annual_salary\n",
       "437  25-29  Man  Pakistan       BSc  Data Scientist      1-2  500000-999999\n",
       "768  25-29  Man  Thailand       MSc  Data Scientist        0  500000-999999"
      ]
     },
     "execution_count": 33,
     "metadata": {},
     "output_type": "execute_result"
    }
   ],
   "source": [
    "too_low_exp_too_high_salary = (dsc_df[\n",
    "    ((dsc_df['prog_exp'] == '0')\n",
    "    | (dsc_df['prog_exp'] == '<1')\n",
    "    | (dsc_df['prog_exp'] == '1-2'))\n",
    "    & ((dsc_df['annual_salary'] == '250000-299999')\n",
    "      | (dsc_df['annual_salary'] == '300000-499999')\n",
    "      | (dsc_df['annual_salary'] == '500000-999999'))\n",
    "])\n",
    "too_low_exp_too_high_salary"
   ]
  },
  {
   "cell_type": "code",
   "execution_count": 34,
   "id": "inclusive-sustainability",
   "metadata": {},
   "outputs": [
    {
     "data": {
      "text/plain": [
       "(2385, 7)"
      ]
     },
     "execution_count": 34,
     "metadata": {},
     "output_type": "execute_result"
    }
   ],
   "source": [
    "dsc_df = dsc_df.drop(index = [437, 768])\n",
    "dsc_df.shape"
   ]
  },
  {
   "cell_type": "code",
   "execution_count": 35,
   "id": "integral-brazil",
   "metadata": {},
   "outputs": [
    {
     "data": {
      "text/html": [
       "<div>\n",
       "<style scoped>\n",
       "    .dataframe tbody tr th:only-of-type {\n",
       "        vertical-align: middle;\n",
       "    }\n",
       "\n",
       "    .dataframe tbody tr th {\n",
       "        vertical-align: top;\n",
       "    }\n",
       "\n",
       "    .dataframe thead th {\n",
       "        text-align: right;\n",
       "    }\n",
       "</style>\n",
       "<table border=\"1\" class=\"dataframe\">\n",
       "  <thead>\n",
       "    <tr style=\"text-align: right;\">\n",
       "      <th></th>\n",
       "      <th>age</th>\n",
       "      <th>sex</th>\n",
       "      <th>country</th>\n",
       "      <th>education</th>\n",
       "      <th>role</th>\n",
       "      <th>prog_exp</th>\n",
       "      <th>annual_salary</th>\n",
       "    </tr>\n",
       "  </thead>\n",
       "  <tbody>\n",
       "    <tr>\n",
       "      <th>0</th>\n",
       "      <td>30-34</td>\n",
       "      <td>Man</td>\n",
       "      <td>USA</td>\n",
       "      <td>MSc</td>\n",
       "      <td>Data Scientist</td>\n",
       "      <td>5-10</td>\n",
       "      <td>125000-149999</td>\n",
       "    </tr>\n",
       "    <tr>\n",
       "      <th>1</th>\n",
       "      <td>35-39</td>\n",
       "      <td>Man</td>\n",
       "      <td>Germany</td>\n",
       "      <td>PHD</td>\n",
       "      <td>Data Scientist</td>\n",
       "      <td>5-10</td>\n",
       "      <td>70000-79999</td>\n",
       "    </tr>\n",
       "    <tr>\n",
       "      <th>2</th>\n",
       "      <td>30-34</td>\n",
       "      <td>Man</td>\n",
       "      <td>Russia</td>\n",
       "      <td>BSc</td>\n",
       "      <td>Data Scientist</td>\n",
       "      <td>&lt;1</td>\n",
       "      <td>0-999</td>\n",
       "    </tr>\n",
       "    <tr>\n",
       "      <th>3</th>\n",
       "      <td>22-24</td>\n",
       "      <td>Man</td>\n",
       "      <td>Indonesia</td>\n",
       "      <td>MSc</td>\n",
       "      <td>Data Scientist</td>\n",
       "      <td>3-5</td>\n",
       "      <td>4000-4999</td>\n",
       "    </tr>\n",
       "    <tr>\n",
       "      <th>4</th>\n",
       "      <td>30-34</td>\n",
       "      <td>Man</td>\n",
       "      <td>Ukraine</td>\n",
       "      <td>MSc</td>\n",
       "      <td>Data Scientist</td>\n",
       "      <td>3-5</td>\n",
       "      <td>60000-69999</td>\n",
       "    </tr>\n",
       "    <tr>\n",
       "      <th>5</th>\n",
       "      <td>18-21</td>\n",
       "      <td>Woman</td>\n",
       "      <td>Indonesia</td>\n",
       "      <td>BSc</td>\n",
       "      <td>Data Scientist</td>\n",
       "      <td>&lt;1</td>\n",
       "      <td>0-999</td>\n",
       "    </tr>\n",
       "    <tr>\n",
       "      <th>6</th>\n",
       "      <td>25-29</td>\n",
       "      <td>Man</td>\n",
       "      <td>China</td>\n",
       "      <td>Other</td>\n",
       "      <td>Data Scientist</td>\n",
       "      <td>&lt;1</td>\n",
       "      <td>0-999</td>\n",
       "    </tr>\n",
       "    <tr>\n",
       "      <th>7</th>\n",
       "      <td>18-21</td>\n",
       "      <td>Man</td>\n",
       "      <td>India</td>\n",
       "      <td>BSc</td>\n",
       "      <td>Data Scientist</td>\n",
       "      <td>&lt;1</td>\n",
       "      <td>0-999</td>\n",
       "    </tr>\n",
       "    <tr>\n",
       "      <th>8</th>\n",
       "      <td>55-59</td>\n",
       "      <td>Man</td>\n",
       "      <td>Colombia</td>\n",
       "      <td>MSc</td>\n",
       "      <td>Data Scientist</td>\n",
       "      <td>10-20</td>\n",
       "      <td>40000-49999</td>\n",
       "    </tr>\n",
       "    <tr>\n",
       "      <th>9</th>\n",
       "      <td>35-39</td>\n",
       "      <td>Man</td>\n",
       "      <td>Canada</td>\n",
       "      <td>MSc</td>\n",
       "      <td>Data Scientist</td>\n",
       "      <td>10-20</td>\n",
       "      <td>80000-89999</td>\n",
       "    </tr>\n",
       "  </tbody>\n",
       "</table>\n",
       "</div>"
      ],
      "text/plain": [
       "     age    sex    country education            role prog_exp  annual_salary\n",
       "0  30-34    Man        USA       MSc  Data Scientist     5-10  125000-149999\n",
       "1  35-39    Man    Germany       PHD  Data Scientist     5-10    70000-79999\n",
       "2  30-34    Man     Russia       BSc  Data Scientist       <1          0-999\n",
       "3  22-24    Man  Indonesia       MSc  Data Scientist      3-5      4000-4999\n",
       "4  30-34    Man    Ukraine       MSc  Data Scientist      3-5    60000-69999\n",
       "5  18-21  Woman  Indonesia       BSc  Data Scientist       <1          0-999\n",
       "6  25-29    Man      China     Other  Data Scientist       <1          0-999\n",
       "7  18-21    Man      India       BSc  Data Scientist       <1          0-999\n",
       "8  55-59    Man   Colombia       MSc  Data Scientist    10-20    40000-49999\n",
       "9  35-39    Man     Canada       MSc  Data Scientist    10-20    80000-89999"
      ]
     },
     "execution_count": 35,
     "metadata": {},
     "output_type": "execute_result"
    }
   ],
   "source": [
    "dsc_df = dsc_df.reset_index(drop=True)\n",
    "dsc_df.head(10)"
   ]
  },
  {
   "cell_type": "markdown",
   "id": "flexible-physiology",
   "metadata": {},
   "source": [
    "Since I have made the changes that I consider important, we will now go deeper into analyzing the role of a data scientist.\n",
    "\n",
    "A)Age data."
   ]
  },
  {
   "cell_type": "code",
   "execution_count": 36,
   "id": "miniature-dynamics",
   "metadata": {},
   "outputs": [
    {
     "name": "stdout",
     "output_type": "stream",
     "text": [
      "18-21    137\n",
      "22-24    307\n",
      "25-29    603\n",
      "30-34    493\n",
      "35-39    331\n",
      "40-44    214\n",
      "45-49    126\n",
      "50-54     76\n",
      "55-59     39\n",
      "60-69     45\n",
      "70+       14\n",
      "Name: age, dtype: int64 18-21    0.057442\n",
      "22-24    0.128721\n",
      "25-29    0.252830\n",
      "30-34    0.206709\n",
      "35-39    0.138784\n",
      "40-44    0.089727\n",
      "45-49    0.052830\n",
      "50-54    0.031866\n",
      "55-59    0.016352\n",
      "60-69    0.018868\n",
      "70+      0.005870\n",
      "Name: age, dtype: float64\n"
     ]
    }
   ],
   "source": [
    "print(dsc_df['age'].value_counts().sort_index(), \n",
    "      dsc_df['age'].value_counts(normalize = True).sort_index())"
   ]
  },
  {
   "cell_type": "code",
   "execution_count": 37,
   "id": "first-cleveland",
   "metadata": {},
   "outputs": [
    {
     "data": {
      "text/plain": [
       "[Text(0.5, 0, 'Age'), Text(0, 0.5, 'No.Data Scientist')]"
      ]
     },
     "execution_count": 37,
     "metadata": {},
     "output_type": "execute_result"
    },
    {
     "data": {
      "image/png": "[encoded data removed]",
      "text/plain": [
       "<Figure size 432x288 with 1 Axes>"
      ]
     },
     "metadata": {},
     "output_type": "display_data"
    }
   ],
   "source": [
    "by_age = sns.countplot(x = 'age', data = dsc_df, order = sorted(dsc_df['age'].unique().tolist()))\n",
    "by_age.set_xticklabels(by_age.get_xticklabels(), \n",
    "                          rotation=45, \n",
    "                          horizontalalignment='center');\n",
    "by_age.set_title('Number of Data Scientists by age', fontsize = 18)\n",
    "by_age.set(xlabel=\"Age\", ylabel=\"No.Data Scientist\")"
   ]
  },
  {
   "cell_type": "markdown",
   "id": "mysterious-walter",
   "metadata": {},
   "source": [
    "                      Country and Data Scientists "
   ]
  },
  {
   "cell_type": "code",
   "execution_count": 38,
   "id": "opening-source",
   "metadata": {},
   "outputs": [
    {
     "data": {
      "text/html": [
       "<div>\n",
       "<style scoped>\n",
       "    .dataframe tbody tr th:only-of-type {\n",
       "        vertical-align: middle;\n",
       "    }\n",
       "\n",
       "    .dataframe tbody tr th {\n",
       "        vertical-align: top;\n",
       "    }\n",
       "\n",
       "    .dataframe thead th {\n",
       "        text-align: right;\n",
       "    }\n",
       "</style>\n",
       "<table border=\"1\" class=\"dataframe\">\n",
       "  <thead>\n",
       "    <tr style=\"text-align: right;\">\n",
       "      <th></th>\n",
       "      <th>country</th>\n",
       "      <th>No.Data Scientists</th>\n",
       "    </tr>\n",
       "  </thead>\n",
       "  <tbody>\n",
       "    <tr>\n",
       "      <th>0</th>\n",
       "      <td>India</td>\n",
       "      <td>488</td>\n",
       "    </tr>\n",
       "    <tr>\n",
       "      <th>1</th>\n",
       "      <td>USA</td>\n",
       "      <td>360</td>\n",
       "    </tr>\n",
       "    <tr>\n",
       "      <th>2</th>\n",
       "      <td>Other</td>\n",
       "      <td>159</td>\n",
       "    </tr>\n",
       "    <tr>\n",
       "      <th>3</th>\n",
       "      <td>Brazil</td>\n",
       "      <td>117</td>\n",
       "    </tr>\n",
       "    <tr>\n",
       "      <th>4</th>\n",
       "      <td>UK</td>\n",
       "      <td>108</td>\n",
       "    </tr>\n",
       "    <tr>\n",
       "      <th>5</th>\n",
       "      <td>Russia</td>\n",
       "      <td>82</td>\n",
       "    </tr>\n",
       "    <tr>\n",
       "      <th>6</th>\n",
       "      <td>Japan</td>\n",
       "      <td>71</td>\n",
       "    </tr>\n",
       "    <tr>\n",
       "      <th>7</th>\n",
       "      <td>France</td>\n",
       "      <td>66</td>\n",
       "    </tr>\n",
       "    <tr>\n",
       "      <th>8</th>\n",
       "      <td>Germany</td>\n",
       "      <td>64</td>\n",
       "    </tr>\n",
       "    <tr>\n",
       "      <th>9</th>\n",
       "      <td>Nigeria</td>\n",
       "      <td>63</td>\n",
       "    </tr>\n",
       "  </tbody>\n",
       "</table>\n",
       "</div>"
      ],
      "text/plain": [
       "   country  No.Data Scientists\n",
       "0    India                 488\n",
       "1      USA                 360\n",
       "2    Other                 159\n",
       "3   Brazil                 117\n",
       "4       UK                 108\n",
       "5   Russia                  82\n",
       "6    Japan                  71\n",
       "7   France                  66\n",
       "8  Germany                  64\n",
       "9  Nigeria                  63"
      ]
     },
     "execution_count": 38,
     "metadata": {},
     "output_type": "execute_result"
    }
   ],
   "source": [
    "by_country = dsc_df.groupby(by = 'country').size()      #Grouped data based on country\n",
    "by_country = by_country.sort_values(ascending = False)  #sorting\n",
    "by_country = pd.DataFrame(by_country).reset_index()     # new_index in order to make a country as column\n",
    "by_country = by_country.rename(columns = {by_country.columns[1] : 'No.Data Scientists'}) #rename column [1]\n",
    "by_country.head(10)"
   ]
  },
  {
   "cell_type": "markdown",
   "id": "blessed-minneapolis",
   "metadata": {},
   "source": [
    "Initially , we can see that most of the participants are located in India followed by USA, while it is noteworthy that in the survey many participants live in country that has not been included in the survey.\n",
    "\n",
    "To make it clearier let's visualize."
   ]
  },
  {
   "cell_type": "code",
   "execution_count": 39,
   "id": "prerequisite-mounting",
   "metadata": {},
   "outputs": [
    {
     "data": {
      "image/png": "[encoded data removed]",
      "text/plain": [
       "<Figure size 432x288 with 1 Axes>"
      ]
     },
     "metadata": {},
     "output_type": "display_data"
    }
   ],
   "source": [
    "#Creating a barplot for top 10 countries\n",
    "top_10_countries = sns.barplot(x = 'country', y = 'No.Data Scientists', data = by_country.head(10))\n",
    "top_10_countries.set(xlabel = 'Country', ylabel = 'No.Data Scientists')\n",
    "top_10_countries.set_title('Data Scientist : Top 10 countries', fontsize = 15)\n",
    "plt.xticks(rotation = 35)\n",
    "plt.show()"
   ]
  },
  {
   "cell_type": "code",
   "execution_count": 40,
   "id": "posted-click",
   "metadata": {},
   "outputs": [
    {
     "data": {
      "image/png": "[encoded data removed]",
      "text/plain": [
       "<Figure size 432x288 with 1 Axes>"
      ]
     },
     "metadata": {},
     "output_type": "display_data"
    }
   ],
   "source": [
    "last_10_countries = sns.barplot(x = 'country', y = 'No.Data Scientists', data = by_country.tail(10))\n",
    "last_10_countries.set(xlabel = 'Country', ylabel = 'No.Data Scientists')\n",
    "last_10_countries.set_title('Dozens of countries with the fewest data scientists.', fontsize = 15)\n",
    "plt.xticks(rotation = 90)\n",
    "plt.show()"
   ]
  },
  {
   "cell_type": "markdown",
   "id": "reserved-direction",
   "metadata": {},
   "source": [
    "                            DATA SCIENCE BY CONTINENT\n",
    "                          \n",
    "                             DATA SCIENCE IN EUROPE"
   ]
  },
  {
   "cell_type": "code",
   "execution_count": 41,
   "id": "popular-allowance",
   "metadata": {},
   "outputs": [
    {
     "data": {
      "text/plain": [
       "array(['USA', 'Germany', 'Russia', 'Indonesia', 'Ukraine', 'China',\n",
       "       'India', 'Colombia', 'Canada', 'Egypt', 'Nigeria', 'Turkey',\n",
       "       'Spain', 'Iran', 'Other', 'Romania', 'UK', 'Sweden', 'Netherlands',\n",
       "       'France', 'Japan', 'South Africa', 'Poland', 'Mexico',\n",
       "       'Korea, Republic of', 'Argentina', 'Brazil', 'Vietnam', 'Malaysia',\n",
       "       'Switzerland', 'Australia', 'Bangladesh', 'Italy', 'Morocco',\n",
       "       'Pakistan', 'Israel', 'Tunisia', 'Kenya', 'Chile', 'Ireland',\n",
       "       'Belarus', 'Singapore', 'Saudi Arabia', 'Thailand', 'Taiwan',\n",
       "       'Portugal', 'Belgium', 'Ghana', 'Greece', 'United Arab Emirates',\n",
       "       'Nepal', 'Philippines', 'Peru', 'Sri Lanka'], dtype=object)"
      ]
     },
     "execution_count": 41,
     "metadata": {},
     "output_type": "execute_result"
    }
   ],
   "source": [
    "#Unique countries in subset\n",
    "dsc_df.country.unique()"
   ]
  },
  {
   "cell_type": "code",
   "execution_count": 42,
   "id": "continental-harassment",
   "metadata": {},
   "outputs": [
    {
     "data": {
      "text/html": [
       "<div>\n",
       "<style scoped>\n",
       "    .dataframe tbody tr th:only-of-type {\n",
       "        vertical-align: middle;\n",
       "    }\n",
       "\n",
       "    .dataframe tbody tr th {\n",
       "        vertical-align: top;\n",
       "    }\n",
       "\n",
       "    .dataframe thead th {\n",
       "        text-align: right;\n",
       "    }\n",
       "</style>\n",
       "<table border=\"1\" class=\"dataframe\">\n",
       "  <thead>\n",
       "    <tr style=\"text-align: right;\">\n",
       "      <th></th>\n",
       "      <th>age</th>\n",
       "      <th>sex</th>\n",
       "      <th>country</th>\n",
       "      <th>education</th>\n",
       "      <th>role</th>\n",
       "      <th>prog_exp</th>\n",
       "      <th>annual_salary</th>\n",
       "    </tr>\n",
       "  </thead>\n",
       "  <tbody>\n",
       "    <tr>\n",
       "      <th>0</th>\n",
       "      <td>35-39</td>\n",
       "      <td>Man</td>\n",
       "      <td>Germany</td>\n",
       "      <td>PHD</td>\n",
       "      <td>Data Scientist</td>\n",
       "      <td>5-10</td>\n",
       "      <td>70000-79999</td>\n",
       "    </tr>\n",
       "    <tr>\n",
       "      <th>1</th>\n",
       "      <td>30-34</td>\n",
       "      <td>Man</td>\n",
       "      <td>Russia</td>\n",
       "      <td>BSc</td>\n",
       "      <td>Data Scientist</td>\n",
       "      <td>&lt;1</td>\n",
       "      <td>0-999</td>\n",
       "    </tr>\n",
       "    <tr>\n",
       "      <th>2</th>\n",
       "      <td>30-34</td>\n",
       "      <td>Man</td>\n",
       "      <td>Ukraine</td>\n",
       "      <td>MSc</td>\n",
       "      <td>Data Scientist</td>\n",
       "      <td>3-5</td>\n",
       "      <td>60000-69999</td>\n",
       "    </tr>\n",
       "    <tr>\n",
       "      <th>3</th>\n",
       "      <td>25-29</td>\n",
       "      <td>Woman</td>\n",
       "      <td>Germany</td>\n",
       "      <td>MSc</td>\n",
       "      <td>Data Scientist</td>\n",
       "      <td>3-5</td>\n",
       "      <td>50000-59999</td>\n",
       "    </tr>\n",
       "    <tr>\n",
       "      <th>4</th>\n",
       "      <td>18-21</td>\n",
       "      <td>Man</td>\n",
       "      <td>Turkey</td>\n",
       "      <td>BSc</td>\n",
       "      <td>Data Scientist</td>\n",
       "      <td>1-2</td>\n",
       "      <td>5000-7499</td>\n",
       "    </tr>\n",
       "  </tbody>\n",
       "</table>\n",
       "</div>"
      ],
      "text/plain": [
       "     age    sex  country education            role prog_exp annual_salary\n",
       "0  35-39    Man  Germany       PHD  Data Scientist     5-10   70000-79999\n",
       "1  30-34    Man   Russia       BSc  Data Scientist       <1         0-999\n",
       "2  30-34    Man  Ukraine       MSc  Data Scientist      3-5   60000-69999\n",
       "3  25-29  Woman  Germany       MSc  Data Scientist      3-5   50000-59999\n",
       "4  18-21    Man   Turkey       BSc  Data Scientist      1-2     5000-7499"
      ]
     },
     "execution_count": 42,
     "metadata": {},
     "output_type": "execute_result"
    }
   ],
   "source": [
    "#Creating a list with European countries\n",
    "european_countries = ['Germany', 'Russia', 'Ukraine',\n",
    "                     'Turkey', 'Spain', 'Romania',\n",
    "                     'UK', 'Sweden', 'Netherlands',\n",
    "                     'France', 'Poland', 'Switzerland',\n",
    "                      'Italy', 'Israel', 'Ireland',\n",
    "                     'Belarus', 'Portugal', 'Belgium',\n",
    "                     'Greece']\n",
    "\n",
    "#Creating a subset based on European countries\n",
    "data_science_in_europe = dsc_df[dsc_df['country'].isin(european_countries)].reset_index(drop = True)\n",
    "data_science_in_europe.head(5)"
   ]
  },
  {
   "cell_type": "code",
   "execution_count": 43,
   "id": "plain-superintendent",
   "metadata": {},
   "outputs": [
    {
     "data": {
      "image/png": "[encoded data removed]",
      "text/plain": [
       "<Figure size 432x288 with 1 Axes>"
      ]
     },
     "metadata": {},
     "output_type": "display_data"
    }
   ],
   "source": [
    "by_country_in_europe = sns.countplot( x = 'country', data = data_science_in_europe,\n",
    "             order = data_science_in_europe['country'].value_counts().index, color = 'purple', edgecolor = 'black', alpha = 0.5)\n",
    "by_country_in_europe.set_xticklabels(by_country_in_europe.get_xticklabels(),\n",
    "                                    rotation = 90)\n",
    "by_country_in_europe.set( xlabel = 'European countries', ylabel = 'Number of Data Scientists')\n",
    "by_country_in_europe.set_title('Data Science in Europe by country', fontsize = 13)\n",
    "by_country_in_europe.text(-0.9, 125, 'Most of Data Scientists in Europe are located in UK-RUSSIA-FRANCE')\n",
    "sns.despine(right = True)"
   ]
  },
  {
   "cell_type": "code",
   "execution_count": 44,
   "id": "increased-jackson",
   "metadata": {},
   "outputs": [
    {
     "name": "stdout",
     "output_type": "stream",
     "text": [
      "age\n",
      "30-34    24.28\n",
      "25-29    23.22\n",
      "35-39    15.63\n",
      "40-44     9.71\n",
      "22-24     8.65\n",
      "45-49     6.98\n",
      "50-54     3.34\n",
      "18-21     3.19\n",
      "55-59     2.28\n",
      "60-69     2.12\n",
      "70+       0.61\n",
      "Name: percentage, dtype: float64\n"
     ]
    },
    {
     "data": {
      "image/png": "[encoded data removed]",
      "text/plain": [
       "<Figure size 432x288 with 1 Axes>"
      ]
     },
     "metadata": {},
     "output_type": "display_data"
    }
   ],
   "source": [
    "by_age_europe = pd.DataFrame(data_science_in_europe.groupby('age').size().sort_values(ascending = False))\n",
    "by_age_europe = by_age_europe.rename(columns = {by_age_europe.columns[0] : 'Number of Data Scientists'})\n",
    "by_age_europe['percentage'] = round(by_age_europe['Number of Data Scientists'] / sum(by_age_europe['Number of Data Scientists']) * 100, 2)\n",
    "print(by_age_europe['percentage'])\n",
    "\n",
    "#Plotting\n",
    "sns.barplot( x = 'percentage', y = by_age_europe.index, \n",
    "            data = by_age_europe, edgecolor = 'black')\n",
    "plt.title('The number of Data Scientists by age in EUROPE')\n",
    "plt.text(-0.5, -1.5, 'DATA SCIENTISTS : In Europe about 50 % is between 25-34.')\n",
    "plt.show()"
   ]
  },
  {
   "cell_type": "code",
   "execution_count": 45,
   "id": "adopted-communication",
   "metadata": {},
   "outputs": [
    {
     "data": {
      "image/png": "[encoded data removed]",
      "text/plain": [
       "<Figure size 432x288 with 1 Axes>"
      ]
     },
     "metadata": {},
     "output_type": "display_data"
    }
   ],
   "source": [
    "by_salary_in_europe = sns.countplot( x = 'annual_salary', data = data_science_in_europe,\n",
    "             order = data_science_in_europe['annual_salary'].value_counts().index, color = 'green', \n",
    "                                    edgecolor = 'white', alpha = 0.5)\n",
    "by_salary_in_europe.set_xticklabels(by_salary_in_europe.get_xticklabels(),\n",
    "                                   rotation = 90)\n",
    "by_salary_in_europe.set(xlabel = 'ANNUAL SALARY', ylabel = 'COUNT')\n",
    "by_salary_in_europe.set_title('Number of Data Scientists by salary in Europe')\n",
    "by_salary_in_europe.text(-1.5, 90, 'DATA SCIENTISTS : In Europe most of Data Scientists are paid between 40K and 49.9K , annually.')\n",
    "sns.despine(left = True, bottom = True)"
   ]
  },
  {
   "cell_type": "code",
   "execution_count": 46,
   "id": "further-zimbabwe",
   "metadata": {},
   "outputs": [
    {
     "name": "stdout",
     "output_type": "stream",
     "text": [
      "education\n",
      "MSc      59.03\n",
      "PHD      24.13\n",
      "BSc      10.32\n",
      "Other     6.53\n",
      "Name: percentage, dtype: float64\n"
     ]
    },
    {
     "data": {
      "image/png": "[encoded data removed]",
      "text/plain": [
       "<Figure size 432x288 with 1 Axes>"
      ]
     },
     "metadata": {},
     "output_type": "display_data"
    }
   ],
   "source": [
    "#DATA SCIENTISTS IN EUROPE BY EDUCATION\n",
    "\n",
    "by_education_europe = pd.DataFrame(data_science_in_europe.groupby('education').size().sort_values(ascending = False))\n",
    "by_education_europe = by_education_europe.rename(columns = {by_education_europe.columns[0] : 'Count'})\n",
    "by_education_europe['percentage'] = round(by_education_europe['Count'] / sum(by_education_europe['Count']) *100, 2)\n",
    "print(by_education_europe['percentage'])\n",
    "\n",
    "#Plotting\n",
    "# The horizontal plot is made using the hline function\n",
    "plt.hlines(y = by_education_europe.index, xmin = 0, xmax = by_education_europe['percentage'], color='red')\n",
    "plt.plot(by_education_europe['percentage'], by_education_europe.index, \">\")\n",
    "plt.title('Data Scientists in EUROPE by education level')\n",
    "plt.text(-1.5, 3.9, '10.32 % of data scientists in Europe hold MSC.')\n",
    "plt.text(-1.5, 3.7, '59.03 % of European data scientists hold MSC.')\n",
    "plt.text(-1.5, 3.5, '24.13 % of European data scientists hold PHD.')\n",
    "plt.ylabel('Education level')\n",
    "plt.xlabel('%')\n",
    "plt.show()"
   ]
  },
  {
   "cell_type": "code",
   "execution_count": 47,
   "id": "unknown-spray",
   "metadata": {},
   "outputs": [
    {
     "name": "stdout",
     "output_type": "stream",
     "text": [
      "AxesSubplot(0.125,0.125;0.775x0.755)\n"
     ]
    },
    {
     "data": {
      "image/png": "[encoded data removed]",
      "text/plain": [
       "<Figure size 432x288 with 1 Axes>"
      ]
     },
     "metadata": {},
     "output_type": "display_data"
    }
   ],
   "source": [
    "by_coding_experience = sns.countplot( x = 'prog_exp', data = data_science_in_europe, color = 'grey', \n",
    "                                     edgecolor = 'white', alpha = 0.8, order = data_science_in_europe['prog_exp'].value_counts().index)\n",
    "by_coding_experience.set_title('Data Scientists in Europe by coding experience')\n",
    "by_coding_experience.text(-1, 220, 'About 25 % in Europe has 3-5 years experience and 22 % about 5-10 years. ')\n",
    "print(by_coding_experience)"
   ]
  },
  {
   "cell_type": "markdown",
   "id": "brutal-guinea",
   "metadata": {},
   "source": [
    "                      DATA SCIENCE IN AFRICAN CONTINENT"
   ]
  },
  {
   "cell_type": "code",
   "execution_count": 48,
   "id": "passing-serbia",
   "metadata": {},
   "outputs": [
    {
     "data": {
      "text/plain": [
       "['Egypt', 'Nigeria', 'South Africa', 'Morocco', 'Tunisia', 'Kenya', 'Ghana']"
      ]
     },
     "execution_count": 48,
     "metadata": {},
     "output_type": "execute_result"
    }
   ],
   "source": [
    "#Let's create a list with African countries\n",
    "african_countries = ['Egypt', 'Nigeria', 'South Africa', 'Morocco', 'Tunisia', 'Kenya', 'Ghana']\n",
    "african_countries"
   ]
  },
  {
   "cell_type": "code",
   "execution_count": 49,
   "id": "greater-jesus",
   "metadata": {},
   "outputs": [
    {
     "data": {
      "text/plain": [
       "(151, 7)"
      ]
     },
     "execution_count": 49,
     "metadata": {},
     "output_type": "execute_result"
    }
   ],
   "source": [
    "#Creating a data frame for data scientists in Africa\n",
    "africa_continent_df = dsc_df[dsc_df['country'].isin(african_countries)].reset_index(drop = True)\n",
    "africa_continent_df.shape #151 data scientists from African continent"
   ]
  },
  {
   "cell_type": "code",
   "execution_count": 50,
   "id": "bigger-passion",
   "metadata": {},
   "outputs": [
    {
     "data": {
      "image/png": "[encoded data removed]",
      "text/plain": [
       "<Figure size 432x288 with 1 Axes>"
      ]
     },
     "metadata": {},
     "output_type": "display_data"
    }
   ],
   "source": [
    "by_age_africa = africa_continent_df['age'].value_counts(normalize = True).sort_values(ascending = False)\n",
    "\n",
    "by_age_africa_plot = sns.barplot( y = by_age_africa.values, x = by_age_africa.index, \n",
    "           data = africa_continent_df, color = 'red', edgecolor = 'blue', alpha = 0.8)\n",
    "\n",
    "by_age_africa_plot.set_title(' Percentage of Data Scientists in Africa by age ')\n",
    "by_age_africa_plot.text(-0.5, 0.46, \"In Africa about 35 % of Data Scientists are between 25 and 29.\")\n",
    "by_age_africa_plot.text(-0.5, 0.44, \"In Africa about 23 % of Data Scientists are between 22 and 24.\")\n",
    "sns.despine(bottom = True, left = True)"
   ]
  },
  {
   "cell_type": "code",
   "execution_count": 51,
   "id": "capital-copyright",
   "metadata": {},
   "outputs": [
    {
     "data": {
      "image/png": "[encoded data removed]",
      "text/plain": [
       "<Figure size 720x288 with 1 Axes>"
      ]
     },
     "metadata": {},
     "output_type": "display_data"
    }
   ],
   "source": [
    "by_country_africa = africa_continent_df['country'].value_counts().sort_values(ascending = False)\n",
    "\n",
    "#Plotting\n",
    "plt.figure( figsize = (10, 4))\n",
    "by_country_africa_plot = sns.countplot( x = 'country', data = africa_continent_df,\n",
    "             order = by_country_africa.index, color = 'green', edgecolor = 'red', alpha = 0.6)\n",
    "by_country_africa_plot.set_title('Number of Data Scientists in African countries', fontsize = 18)\n",
    "by_country_africa_plot.set(xlabel = 'African Countries', ylabel = 'Number of Data Scientists')   \n",
    "plt.show()"
   ]
  },
  {
   "cell_type": "code",
   "execution_count": 52,
   "id": "through-estimate",
   "metadata": {},
   "outputs": [
    {
     "name": "stdout",
     "output_type": "stream",
     "text": [
      "sex         Man  Other  Woman\n",
      "education                    \n",
      "BSc        59.0    1.0   11.0\n",
      "MSc        42.0    1.0   12.0\n",
      "Other      10.0    0.0    2.0\n",
      "PHD         9.0    0.0    4.0\n"
     ]
    },
    {
     "data": {
      "image/png": "[encoded data removed]",
      "text/plain": [
       "<Figure size 576x360 with 1 Axes>"
      ]
     },
     "metadata": {},
     "output_type": "display_data"
    }
   ],
   "source": [
    "by_education_sex_africa = africa_continent_df.groupby(['education', 'sex']).size().unstack().fillna(0)\n",
    "print(by_education_sex_africa)\n",
    "\n",
    "fig, ax = plt.subplots(figsize = (8, 5))\n",
    "# First plot the 'Man' bars for education level\n",
    "ax.bar(by_education_sex_africa.index, by_education_sex_africa['Man'], label = 'Man',\n",
    "       color = 'skyblue', edgecolor = 'skyblue', alpha = 1)\n",
    "\n",
    "# Then plot the 'Woman' bars \n",
    "ax.bar(by_education_sex_africa.index, by_education_sex_africa['Woman'],\n",
    "       bottom = by_education_sex_africa['Man'], label = 'Woman', \n",
    "       color = 'pink', edgecolor = 'pink', alpha = 1)\n",
    "\n",
    "#Also plot ;Others'\n",
    "ax.bar(by_education_sex_africa.index, by_education_sex_africa['Other'],\n",
    "        label = 'Different answer', \n",
    "       color = 'red', edgecolor = 'red', alpha = 1)\n",
    "\n",
    "ax.set_title('Data Scientists by Education and Gender in Africa', fontsize = 14) \n",
    "ax.set_xlabel('Education level')\n",
    "ax.set_ylabel('Number of Data Scientists')\n",
    "ax.legend()\n",
    "plt.show()\n",
    "\n",
    "\n",
    "#How can I draw the background?"
   ]
  },
  {
   "cell_type": "markdown",
   "id": "trying-optimization",
   "metadata": {},
   "source": [
    "As we can see the number of participating data scientists from the continent of Africa is largely made up of the country of Nigeria. South Africa follows , but the number of Nigerians is almost three times that of South Africa . \n",
    "\n",
    "Also, male data scientists in Africa , i.e. 59 out of 120 hold BSC , 42 out of 120 MSc holders , PhD holders 9 out of 120 while lower education is 10 out of 120.\n",
    "\n",
    "Also most female data scientists in Africa hold MSC and BSC, while 4 out of 29 hold PhDs."
   ]
  },
  {
   "cell_type": "markdown",
   "id": "alternative-accuracy",
   "metadata": {},
   "source": [
    "                            DATA SCIENCE IN ASIA"
   ]
  },
  {
   "cell_type": "code",
   "execution_count": 53,
   "id": "saved-insured",
   "metadata": {},
   "outputs": [
    {
     "data": {
      "text/html": [
       "<div>\n",
       "<style scoped>\n",
       "    .dataframe tbody tr th:only-of-type {\n",
       "        vertical-align: middle;\n",
       "    }\n",
       "\n",
       "    .dataframe tbody tr th {\n",
       "        vertical-align: top;\n",
       "    }\n",
       "\n",
       "    .dataframe thead th {\n",
       "        text-align: right;\n",
       "    }\n",
       "</style>\n",
       "<table border=\"1\" class=\"dataframe\">\n",
       "  <thead>\n",
       "    <tr style=\"text-align: right;\">\n",
       "      <th></th>\n",
       "      <th>age</th>\n",
       "      <th>sex</th>\n",
       "      <th>country</th>\n",
       "      <th>education</th>\n",
       "      <th>role</th>\n",
       "      <th>prog_exp</th>\n",
       "      <th>annual_salary</th>\n",
       "    </tr>\n",
       "  </thead>\n",
       "  <tbody>\n",
       "    <tr>\n",
       "      <th>0</th>\n",
       "      <td>22-24</td>\n",
       "      <td>Man</td>\n",
       "      <td>Indonesia</td>\n",
       "      <td>MSc</td>\n",
       "      <td>Data Scientist</td>\n",
       "      <td>3-5</td>\n",
       "      <td>4000-4999</td>\n",
       "    </tr>\n",
       "    <tr>\n",
       "      <th>1</th>\n",
       "      <td>18-21</td>\n",
       "      <td>Woman</td>\n",
       "      <td>Indonesia</td>\n",
       "      <td>BSc</td>\n",
       "      <td>Data Scientist</td>\n",
       "      <td>&lt;1</td>\n",
       "      <td>0-999</td>\n",
       "    </tr>\n",
       "    <tr>\n",
       "      <th>2</th>\n",
       "      <td>25-29</td>\n",
       "      <td>Man</td>\n",
       "      <td>China</td>\n",
       "      <td>Other</td>\n",
       "      <td>Data Scientist</td>\n",
       "      <td>&lt;1</td>\n",
       "      <td>0-999</td>\n",
       "    </tr>\n",
       "    <tr>\n",
       "      <th>3</th>\n",
       "      <td>18-21</td>\n",
       "      <td>Man</td>\n",
       "      <td>India</td>\n",
       "      <td>BSc</td>\n",
       "      <td>Data Scientist</td>\n",
       "      <td>&lt;1</td>\n",
       "      <td>0-999</td>\n",
       "    </tr>\n",
       "    <tr>\n",
       "      <th>4</th>\n",
       "      <td>25-29</td>\n",
       "      <td>Man</td>\n",
       "      <td>Iran</td>\n",
       "      <td>MSc</td>\n",
       "      <td>Data Scientist</td>\n",
       "      <td>3-5</td>\n",
       "      <td>2000-2999</td>\n",
       "    </tr>\n",
       "  </tbody>\n",
       "</table>\n",
       "</div>"
      ],
      "text/plain": [
       "     age    sex    country education            role prog_exp annual_salary\n",
       "0  22-24    Man  Indonesia       MSc  Data Scientist      3-5     4000-4999\n",
       "1  18-21  Woman  Indonesia       BSc  Data Scientist       <1         0-999\n",
       "2  25-29    Man      China     Other  Data Scientist       <1         0-999\n",
       "3  18-21    Man      India       BSc  Data Scientist       <1         0-999\n",
       "4  25-29    Man       Iran       MSc  Data Scientist      3-5     2000-2999"
      ]
     },
     "execution_count": 53,
     "metadata": {},
     "output_type": "execute_result"
    }
   ],
   "source": [
    "#Creating a list of Asian Countries\n",
    "asian_countries = ['Indonesia', 'India', 'China', 'Iran', 'Japan', \n",
    "                   'Korea, Republic of', 'Vietnam', 'Malaysia', 'Bangladesh',\n",
    "                    'Pakistan', 'Singapore', 'Saudi Arabia', 'Thailand', 'Taiwan',\n",
    "                   'United Arab Emirates', 'Nepal', 'Philippines', 'Sri Lanka']\n",
    "\n",
    "data_science_in_asia = dsc_df[dsc_df['country'].isin(asian_countries)].reset_index(drop = True)\n",
    "data_science_in_asia.head(5)"
   ]
  },
  {
   "cell_type": "code",
   "execution_count": 54,
   "id": "plastic-litigation",
   "metadata": {},
   "outputs": [
    {
     "data": {
      "image/png": "[encoded data removed]",
      "text/plain": [
       "<Figure size 648x432 with 1 Axes>"
      ]
     },
     "metadata": {},
     "output_type": "display_data"
    }
   ],
   "source": [
    "#Creating a Serie for Data Scientists in Asia by age.\n",
    "by_age_in_asia = data_science_in_asia['age'].value_counts(normalize = True).sort_index()\n",
    "\n",
    "#Creating a plt based on lolliplot techiques in order to show the variation between age ranges.\n",
    "#plt.stem?\n",
    "plt.subplots(figsize = (9, 6))\n",
    "plt.stem( by_age_in_asia.index,  by_age_in_asia.values, \n",
    "        markerfmt = 'skyblue', linefmt = 'green')\n",
    "\n",
    "#Labels\n",
    "plt.title('Changes in the percentage of data scientists in Asia by age range', fontsize = 19)\n",
    "plt.xlabel( xlabel = 'Age range', fontsize = 13)\n",
    "plt.ylabel(ylabel = '%', fontsize = 13)\n",
    "plt.text(1, -0.01, 'About 60 % of Data Scientists in Asia are between 18 and 29.', fontweight = 'bold')\n",
    "plt.show()\n"
   ]
  },
  {
   "cell_type": "code",
   "execution_count": 55,
   "id": "standing-blade",
   "metadata": {},
   "outputs": [
    {
     "data": {
      "text/html": [
       "<div>\n",
       "<style scoped>\n",
       "    .dataframe tbody tr th:only-of-type {\n",
       "        vertical-align: middle;\n",
       "    }\n",
       "\n",
       "    .dataframe tbody tr th {\n",
       "        vertical-align: top;\n",
       "    }\n",
       "\n",
       "    .dataframe thead th {\n",
       "        text-align: right;\n",
       "    }\n",
       "</style>\n",
       "<table border=\"1\" class=\"dataframe\">\n",
       "  <thead>\n",
       "    <tr style=\"text-align: right;\">\n",
       "      <th>sex</th>\n",
       "      <th>Man</th>\n",
       "      <th>Other</th>\n",
       "      <th>Woman</th>\n",
       "    </tr>\n",
       "    <tr>\n",
       "      <th>prog_exp</th>\n",
       "      <th></th>\n",
       "      <th></th>\n",
       "      <th></th>\n",
       "    </tr>\n",
       "  </thead>\n",
       "  <tbody>\n",
       "    <tr>\n",
       "      <th>0</th>\n",
       "      <td>10.0</td>\n",
       "      <td>0.0</td>\n",
       "      <td>5.0</td>\n",
       "    </tr>\n",
       "    <tr>\n",
       "      <th>1-2</th>\n",
       "      <td>147.0</td>\n",
       "      <td>1.0</td>\n",
       "      <td>29.0</td>\n",
       "    </tr>\n",
       "    <tr>\n",
       "      <th>10-20</th>\n",
       "      <td>58.0</td>\n",
       "      <td>1.0</td>\n",
       "      <td>5.0</td>\n",
       "    </tr>\n",
       "    <tr>\n",
       "      <th>3-5</th>\n",
       "      <td>208.0</td>\n",
       "      <td>0.0</td>\n",
       "      <td>33.0</td>\n",
       "    </tr>\n",
       "    <tr>\n",
       "      <th>5-10</th>\n",
       "      <td>126.0</td>\n",
       "      <td>2.0</td>\n",
       "      <td>21.0</td>\n",
       "    </tr>\n",
       "    <tr>\n",
       "      <th>&lt;1</th>\n",
       "      <td>75.0</td>\n",
       "      <td>1.0</td>\n",
       "      <td>17.0</td>\n",
       "    </tr>\n",
       "    <tr>\n",
       "      <th>&gt;20</th>\n",
       "      <td>22.0</td>\n",
       "      <td>0.0</td>\n",
       "      <td>1.0</td>\n",
       "    </tr>\n",
       "  </tbody>\n",
       "</table>\n",
       "</div>"
      ],
      "text/plain": [
       "sex         Man  Other  Woman\n",
       "prog_exp                     \n",
       "0          10.0    0.0    5.0\n",
       "1-2       147.0    1.0   29.0\n",
       "10-20      58.0    1.0    5.0\n",
       "3-5       208.0    0.0   33.0\n",
       "5-10      126.0    2.0   21.0\n",
       "<1         75.0    1.0   17.0\n",
       ">20        22.0    0.0    1.0"
      ]
     },
     "execution_count": 55,
     "metadata": {},
     "output_type": "execute_result"
    }
   ],
   "source": [
    "#Data science in Asia by programming experience and gender\n",
    "by_prog_exp_and_gender_asia = data_science_in_asia.groupby(['sex', 'prog_exp']).size().unstack().fillna(0).T\n",
    "by_prog_exp_and_gender_asia \n",
    "\n",
    "\n"
   ]
  },
  {
   "cell_type": "code",
   "execution_count": 56,
   "id": "distributed-service",
   "metadata": {},
   "outputs": [
    {
     "data": {
      "image/png": "[encoded data removed]",
      "text/plain": [
       "<Figure size 720x360 with 1 Axes>"
      ]
     },
     "metadata": {},
     "output_type": "display_data"
    }
   ],
   "source": [
    "#Plotting\n",
    "plt.subplots(figsize = (10, 5))\n",
    "\n",
    "#Creating bars for ['Man'] in Asia in bottom\n",
    "plt.bar(by_prog_exp_and_gender_asia.index, by_prog_exp_and_gender_asia['Man'], label = 'Man', \n",
    "       color = 'blue', edgecolor = 'blue')\n",
    "#Creating bars for ['Woman'] in Asia with ['Man'] in  bottom\n",
    "plt.bar(by_prog_exp_and_gender_asia.index, by_prog_exp_and_gender_asia['Woman'], label = 'Woman', \n",
    "       bottom = by_prog_exp_and_gender_asia['Man'], color = 'green', edgecolor = 'green')\n",
    "#Creating bars for Different answer\n",
    "plt.bar(by_prog_exp_and_gender_asia.index,\n",
    "        by_prog_exp_and_gender_asia['Other'], label = 'Different answer',\n",
    "       color = 'red', edgecolor = 'red', alpha = 1, bottom = by_prog_exp_and_gender_asia['Man'])\n",
    "#Labels\n",
    "plt.title('Data Scientists in Asia by coding experience and gender.', fontsize = 16, fontweight = 'bold')\n",
    "plt.text(-0.6, 272, 'Both men and women data scientists in Asia have 3-5 programming experience.',\n",
    "        fontsize = 14, fontweight = 'bold')\n",
    "plt.xticks( x = 'Programming experience', fontsize = 13, fontweight = 'bold')\n",
    "plt.legend(fontsize = 16)\n",
    "plt.show()\n"
   ]
  },
  {
   "cell_type": "markdown",
   "id": "religious-relative",
   "metadata": {},
   "source": [
    "                             DATA SCIENCE BY AMERICAN COUNTRIES"
   ]
  },
  {
   "cell_type": "code",
   "execution_count": 57,
   "id": "norwegian-burst",
   "metadata": {},
   "outputs": [
    {
     "data": {
      "text/html": [
       "<div>\n",
       "<style scoped>\n",
       "    .dataframe tbody tr th:only-of-type {\n",
       "        vertical-align: middle;\n",
       "    }\n",
       "\n",
       "    .dataframe tbody tr th {\n",
       "        vertical-align: top;\n",
       "    }\n",
       "\n",
       "    .dataframe thead th {\n",
       "        text-align: right;\n",
       "    }\n",
       "</style>\n",
       "<table border=\"1\" class=\"dataframe\">\n",
       "  <thead>\n",
       "    <tr style=\"text-align: right;\">\n",
       "      <th></th>\n",
       "      <th>age</th>\n",
       "      <th>sex</th>\n",
       "      <th>country</th>\n",
       "      <th>education</th>\n",
       "      <th>role</th>\n",
       "      <th>prog_exp</th>\n",
       "      <th>annual_salary</th>\n",
       "    </tr>\n",
       "  </thead>\n",
       "  <tbody>\n",
       "    <tr>\n",
       "      <th>0</th>\n",
       "      <td>30-34</td>\n",
       "      <td>Man</td>\n",
       "      <td>USA</td>\n",
       "      <td>MSc</td>\n",
       "      <td>Data Scientist</td>\n",
       "      <td>5-10</td>\n",
       "      <td>125000-149999</td>\n",
       "    </tr>\n",
       "    <tr>\n",
       "      <th>1</th>\n",
       "      <td>55-59</td>\n",
       "      <td>Man</td>\n",
       "      <td>Colombia</td>\n",
       "      <td>MSc</td>\n",
       "      <td>Data Scientist</td>\n",
       "      <td>10-20</td>\n",
       "      <td>40000-49999</td>\n",
       "    </tr>\n",
       "    <tr>\n",
       "      <th>2</th>\n",
       "      <td>35-39</td>\n",
       "      <td>Man</td>\n",
       "      <td>Canada</td>\n",
       "      <td>MSc</td>\n",
       "      <td>Data Scientist</td>\n",
       "      <td>10-20</td>\n",
       "      <td>80000-89999</td>\n",
       "    </tr>\n",
       "  </tbody>\n",
       "</table>\n",
       "</div>"
      ],
      "text/plain": [
       "     age  sex   country education            role prog_exp  annual_salary\n",
       "0  30-34  Man       USA       MSc  Data Scientist     5-10  125000-149999\n",
       "1  55-59  Man  Colombia       MSc  Data Scientist    10-20    40000-49999\n",
       "2  35-39  Man    Canada       MSc  Data Scientist    10-20    80000-89999"
      ]
     },
     "execution_count": 57,
     "metadata": {},
     "output_type": "execute_result"
    }
   ],
   "source": [
    "#Creating a list for American countries\n",
    "america_countries = ['USA', 'Colombia', 'Canada', \n",
    "                    'Mexico', 'Argentina', 'Brazil',\n",
    "                    'Chile', 'Peru']\n",
    "\n",
    "#Subset based on American countries\n",
    "data_science_in_america = dsc_df[dsc_df['country'].isin(america_countries)].reset_index(drop = True)\n",
    "data_science_in_america.head(3)"
   ]
  },
  {
   "cell_type": "code",
   "execution_count": 58,
   "id": "analyzed-indicator",
   "metadata": {},
   "outputs": [
    {
     "data": {
      "text/plain": [
       "Text(-0.5, 360, '')"
      ]
     },
     "execution_count": 58,
     "metadata": {},
     "output_type": "execute_result"
    },
    {
     "data": {
      "image/png": "[encoded data removed]",
      "text/plain": [
       "<Figure size 432x288 with 1 Axes>"
      ]
     },
     "metadata": {},
     "output_type": "display_data"
    }
   ],
   "source": [
    "by_country_in_america = sns.countplot( x = 'country', data = data_science_in_america,\n",
    "             order = data_science_in_america['country'].value_counts().index,\n",
    "             color = 'brown', edgecolor = 'black', alpha = 0.7)\n",
    "by_country_in_america.set_title('Number of Data Scientists by American countries',\n",
    "                               fontsize = 14, fontweight = 'bold')\n",
    "by_country_in_america.set_xticklabels(by_country_in_america.get_xticklabels(),\n",
    "                                      rotation = 90)\n",
    "by_country_in_america.set(xlabel = 'AMERICAN COUNTRIES', \n",
    "                         ylabel = 'Number of Data Scientists')\n",
    "by_country_in_america.text(-0.5, 360, '')"
   ]
  },
  {
   "cell_type": "markdown",
   "id": "industrial-great",
   "metadata": {},
   "source": [
    "                  \n",
    "                 A QUICK LOOK ABOUT EDUCATION LEVEL OF DATA SCIENTISTS \n",
    "                                 IN AUSTRALIA "
   ]
  },
  {
   "cell_type": "code",
   "execution_count": 59,
   "id": "instant-problem",
   "metadata": {},
   "outputs": [],
   "source": [
    "#Creating subset for Australia continent \n",
    "data_science_in_australia = dsc_df[dsc_df['country'] == 'Australia'].reset_index( drop = True)"
   ]
  },
  {
   "cell_type": "code",
   "execution_count": 60,
   "id": "consistent-dakota",
   "metadata": {},
   "outputs": [
    {
     "name": "stdout",
     "output_type": "stream",
     "text": [
      "AxesSubplot(0.125,0.125;0.775x0.755)\n"
     ]
    },
    {
     "data": {
      "image/png": "[encoded data removed]",
      "text/plain": [
       "<Figure size 432x288 with 1 Axes>"
      ]
     },
     "metadata": {},
     "output_type": "display_data"
    }
   ],
   "source": [
    "by_education_in_australia_plot = sns.barplot( x = data_science_in_australia['education'].value_counts().values,\n",
    "            y = data_science_in_australia['education'].value_counts().index,\n",
    "            data = data_science_in_australia, \n",
    "           color = 'red', edgecolor = 'white', alpha = 0.6)\n",
    "\n",
    "by_education_in_australia_plot.set_title('Education level of Data Scientists in Australia',\n",
    "                                        fontsize = 15, fontweight = 'bold')\n",
    "by_education_in_australia_plot.text(-0.5, 5, 'Most of Australian people hold MSc \\n and fewer are PHD holders.',\n",
    "                                   fontsize = 15, fontweight = 'bold')\n",
    "print(by_education_in_australia_plot)"
   ]
  },
  {
   "cell_type": "markdown",
   "id": "iraqi-stroke",
   "metadata": {},
   "source": [
    "                             AN OVERALL VALUATION"
   ]
  },
  {
   "cell_type": "code",
   "execution_count": null,
   "id": "cultural-thesis",
   "metadata": {},
   "outputs": [],
   "source": []
  },
  {
   "cell_type": "code",
   "execution_count": 61,
   "id": "grave-shakespeare",
   "metadata": {},
   "outputs": [
    {
     "data": {
      "text/html": [
       "<div>\n",
       "<style scoped>\n",
       "    .dataframe tbody tr th:only-of-type {\n",
       "        vertical-align: middle;\n",
       "    }\n",
       "\n",
       "    .dataframe tbody tr th {\n",
       "        vertical-align: top;\n",
       "    }\n",
       "\n",
       "    .dataframe thead th {\n",
       "        text-align: right;\n",
       "    }\n",
       "</style>\n",
       "<table border=\"1\" class=\"dataframe\">\n",
       "  <thead>\n",
       "    <tr style=\"text-align: right;\">\n",
       "      <th></th>\n",
       "      <th>No.Data Scientists</th>\n",
       "      <th>percentage</th>\n",
       "    </tr>\n",
       "    <tr>\n",
       "      <th>education</th>\n",
       "      <th></th>\n",
       "      <th></th>\n",
       "    </tr>\n",
       "  </thead>\n",
       "  <tbody>\n",
       "    <tr>\n",
       "      <th>MSc</th>\n",
       "      <td>1241</td>\n",
       "      <td>52.03</td>\n",
       "    </tr>\n",
       "    <tr>\n",
       "      <th>BSc</th>\n",
       "      <td>552</td>\n",
       "      <td>23.14</td>\n",
       "    </tr>\n",
       "    <tr>\n",
       "      <th>PHD</th>\n",
       "      <td>431</td>\n",
       "      <td>18.07</td>\n",
       "    </tr>\n",
       "    <tr>\n",
       "      <th>Other</th>\n",
       "      <td>161</td>\n",
       "      <td>6.75</td>\n",
       "    </tr>\n",
       "  </tbody>\n",
       "</table>\n",
       "</div>"
      ],
      "text/plain": [
       "           No.Data Scientists  percentage\n",
       "education                                \n",
       "MSc                      1241       52.03\n",
       "BSc                       552       23.14\n",
       "PHD                       431       18.07\n",
       "Other                     161        6.75"
      ]
     },
     "execution_count": 61,
     "metadata": {},
     "output_type": "execute_result"
    }
   ],
   "source": [
    "#Creating a data frame in order to see the number of data scientists based on education level\n",
    "df_education_level = pd.DataFrame(dsc_df.groupby(by = 'education').size().sort_values(ascending = False))\n",
    "df_education_level = df_education_level.rename(columns = {df_education_level.columns[0] : 'No.Data Scientists'})\n",
    "df_education_level['percentage'] = round(df_education_level['No.Data Scientists'] / len(dsc_df) * 100, 2)\n",
    "df_education_level"
   ]
  },
  {
   "cell_type": "code",
   "execution_count": 62,
   "id": "killing-evaluation",
   "metadata": {},
   "outputs": [
    {
     "data": {
      "image/png": "[encoded data removed]",
      "text/plain": [
       "<Figure size 432x288 with 1 Axes>"
      ]
     },
     "metadata": {},
     "output_type": "display_data"
    }
   ],
   "source": [
    "sns.set_color_codes(\"pastel\")\n",
    "by_education_plot = sns.barplot(x = 'percentage', y = df_education_level.index, data = df_education_level, color=\"red\", edgecolor = 'black',\n",
    "                               alpha = 0.6)\n",
    "by_education_plot.set(xlabel = '%')\n",
    "by_education_plot.set_title('Percentage of Data Scientists by education level', fontsize = 13,\n",
    "                           fontweight = 'bold')\n",
    "sns.despine(left = True, bottom = False)"
   ]
  },
  {
   "cell_type": "markdown",
   "id": "canadian-canal",
   "metadata": {},
   "source": [
    "A)The above chart presents the distribution of the variable described above.Most of the participating data scientists are people with Master's degree - about 52 %. Slightly fewer people indicate a bachelor's degree - about 23 %. Therefore 85 percent of data scientists in this dataset have at least 3+ years of study.\n",
    "Additionally, 18 per cent hold a PhD or are very close to being acquired, while about 6 %  of the total are either vocational education graduates or do not prefer to answer."
   ]
  },
  {
   "cell_type": "code",
   "execution_count": 63,
   "id": "advisory-surname",
   "metadata": {},
   "outputs": [
    {
     "data": {
      "text/html": [
       "<div>\n",
       "<style scoped>\n",
       "    .dataframe tbody tr th:only-of-type {\n",
       "        vertical-align: middle;\n",
       "    }\n",
       "\n",
       "    .dataframe tbody tr th {\n",
       "        vertical-align: top;\n",
       "    }\n",
       "\n",
       "    .dataframe thead th {\n",
       "        text-align: right;\n",
       "    }\n",
       "</style>\n",
       "<table border=\"1\" class=\"dataframe\">\n",
       "  <thead>\n",
       "    <tr style=\"text-align: right;\">\n",
       "      <th>sex</th>\n",
       "      <th>Man</th>\n",
       "      <th>Other</th>\n",
       "      <th>Woman</th>\n",
       "    </tr>\n",
       "    <tr>\n",
       "      <th>education</th>\n",
       "      <th></th>\n",
       "      <th></th>\n",
       "      <th></th>\n",
       "    </tr>\n",
       "  </thead>\n",
       "  <tbody>\n",
       "    <tr>\n",
       "      <th>BSc</th>\n",
       "      <td>468</td>\n",
       "      <td>10</td>\n",
       "      <td>74</td>\n",
       "    </tr>\n",
       "    <tr>\n",
       "      <th>MSc</th>\n",
       "      <td>1039</td>\n",
       "      <td>14</td>\n",
       "      <td>188</td>\n",
       "    </tr>\n",
       "    <tr>\n",
       "      <th>Other</th>\n",
       "      <td>135</td>\n",
       "      <td>4</td>\n",
       "      <td>22</td>\n",
       "    </tr>\n",
       "    <tr>\n",
       "      <th>PHD</th>\n",
       "      <td>349</td>\n",
       "      <td>8</td>\n",
       "      <td>74</td>\n",
       "    </tr>\n",
       "  </tbody>\n",
       "</table>\n",
       "</div>"
      ],
      "text/plain": [
       "sex         Man  Other  Woman\n",
       "education                    \n",
       "BSc         468     10     74\n",
       "MSc        1039     14    188\n",
       "Other       135      4     22\n",
       "PHD         349      8     74"
      ]
     },
     "execution_count": 63,
     "metadata": {},
     "output_type": "execute_result"
    }
   ],
   "source": [
    "#Creating a dataframe in order to explore the Data scientists based on education level and gender\n",
    "dsc_by_gender_education = dsc_df.groupby(['education', 'sex'])['role'].size().unstack().fillna(0)\n",
    "dsc_by_gender_education"
   ]
  },
  {
   "cell_type": "code",
   "execution_count": 64,
   "id": "tested-building",
   "metadata": {},
   "outputs": [
    {
     "data": {
      "image/png": "[encoded data removed]",
      "text/plain": [
       "<Figure size 720x504 with 1 Axes>"
      ]
     },
     "metadata": {},
     "output_type": "display_data"
    }
   ],
   "source": [
    "plt.subplots( figsize = (10, 7))\n",
    "\n",
    "#Lollipop lines for 'Other' answers \"*\"\n",
    "plt.stem(dsc_by_gender_education.index, dsc_by_gender_education['Other'], label = 'Other', \n",
    "        markerfmt = '*', linefmt = 'b')\n",
    "#Lollipop lines for Women \"s\"\n",
    "plt.stem(dsc_by_gender_education.index, dsc_by_gender_education['Woman'], label = 'Woman',\n",
    "        markerfmt = 's')\n",
    "\n",
    "#Lollipop lines for Men \"o\"\n",
    "plt.stem(dsc_by_gender_education.index, dsc_by_gender_education['Man'], label = 'Man', \n",
    "        markerfmt = 'o', linefmt = 'black')\n",
    "\n",
    "#Labels\n",
    "plt.legend(fontsize = 13)\n",
    "plt.title('Education level of Data Scientists based on Gender.', \n",
    "             fontsize = 15, fontweight = 'bold')\n",
    "plt.xlabel( xlabel = 'Education Level', fontsize = 13, fontweight = 'bold')\n",
    "plt.ylabel(ylabel = 'Number of Data Scientists', fontsize = 13, fontweight = 'bold')\n",
    "plt.show()"
   ]
  },
  {
   "cell_type": "markdown",
   "id": "hired-potato",
   "metadata": {},
   "source": [
    "We also note that of all men, the vast majority , i.e. 1856 out of 1991 have completed studies lasting at least 3 years , while combined with the fact that women, i.e. 336 out of 358 have the same educational background shows us that the technical background needed by a data scientist is quite intense.\n",
    "\n",
    "In addition, in the case of male scientists, 17.5 per cent hold a PhD , while almost half hold a master's degree , while 23 per cent have an undergraduate degree.\n",
    "\n",
    "In the case of women we see that 20 per cent of data scientists have an undergraduate degree, while the same proportion have a PhD and almost 50 per cent hold a master's degree.\n",
    "\n",
    "Personally what I understand - judging from the level of education - is that to be a data scientist at any level - whether you are a woman or a man - you need to have postgraduate studies and above. I find it perfectly reasonable because personally around the world I have not seen an undergraduate department focusing on data science, which is a combination of things."
   ]
  },
  {
   "cell_type": "markdown",
   "id": "regional-paste",
   "metadata": {},
   "source": [
    "                                 NEXT CHAPTER\n",
    "               -----DATA SCIENTIST'S ROLE AND PROGRAMMING EXPERIENCE----"
   ]
  },
  {
   "cell_type": "code",
   "execution_count": 65,
   "id": "greek-stomach",
   "metadata": {},
   "outputs": [
    {
     "data": {
      "text/html": [
       "<div>\n",
       "<style scoped>\n",
       "    .dataframe tbody tr th:only-of-type {\n",
       "        vertical-align: middle;\n",
       "    }\n",
       "\n",
       "    .dataframe tbody tr th {\n",
       "        vertical-align: top;\n",
       "    }\n",
       "\n",
       "    .dataframe thead th {\n",
       "        text-align: right;\n",
       "    }\n",
       "</style>\n",
       "<table border=\"1\" class=\"dataframe\">\n",
       "  <thead>\n",
       "    <tr style=\"text-align: right;\">\n",
       "      <th></th>\n",
       "      <th>prog_exp</th>\n",
       "      <th>Count</th>\n",
       "    </tr>\n",
       "  </thead>\n",
       "  <tbody>\n",
       "    <tr>\n",
       "      <th>0</th>\n",
       "      <td>3-5</td>\n",
       "      <td>667</td>\n",
       "    </tr>\n",
       "    <tr>\n",
       "      <th>1</th>\n",
       "      <td>5-10</td>\n",
       "      <td>546</td>\n",
       "    </tr>\n",
       "    <tr>\n",
       "      <th>2</th>\n",
       "      <td>1-2</td>\n",
       "      <td>391</td>\n",
       "    </tr>\n",
       "    <tr>\n",
       "      <th>3</th>\n",
       "      <td>10-20</td>\n",
       "      <td>337</td>\n",
       "    </tr>\n",
       "    <tr>\n",
       "      <th>4</th>\n",
       "      <td>&lt;1</td>\n",
       "      <td>208</td>\n",
       "    </tr>\n",
       "    <tr>\n",
       "      <th>5</th>\n",
       "      <td>&gt;20</td>\n",
       "      <td>208</td>\n",
       "    </tr>\n",
       "    <tr>\n",
       "      <th>6</th>\n",
       "      <td>0</td>\n",
       "      <td>28</td>\n",
       "    </tr>\n",
       "  </tbody>\n",
       "</table>\n",
       "</div>"
      ],
      "text/plain": [
       "  prog_exp  Count\n",
       "0      3-5    667\n",
       "1     5-10    546\n",
       "2      1-2    391\n",
       "3    10-20    337\n",
       "4       <1    208\n",
       "5      >20    208\n",
       "6        0     28"
      ]
     },
     "execution_count": 65,
     "metadata": {},
     "output_type": "execute_result"
    }
   ],
   "source": [
    "#Creating a data frame grouped by prog experience\n",
    "prog_background = pd.DataFrame(dsc_df.groupby('prog_exp').size())\n",
    "prog_background.columns = ['Count']\n",
    "\n",
    "#Sorting Frame by Number of Data Scientists\n",
    "prog_background = prog_background.sort_values(by = 'Count', ascending = False)\n",
    "prog_background = prog_background.reset_index(drop = False)\n",
    "prog_background"
   ]
  },
  {
   "cell_type": "code",
   "execution_count": 66,
   "id": "divine-enforcement",
   "metadata": {},
   "outputs": [
    {
     "data": {
      "image/png": "[encoded data removed]",
      "text/plain": [
       "<Figure size 432x288 with 1 Axes>"
      ]
     },
     "metadata": {},
     "output_type": "display_data"
    }
   ],
   "source": [
    "#Creating a barplot \n",
    "by_programming_background_plot = sns.barplot(x = 'prog_exp', y = 'Count', data = prog_background,\n",
    "                              color = 'pink', edgecolor = 'black', alpha = 1)\n",
    "by_programming_background_plot.set_xticklabels(by_programming_background_plot.get_xticklabels(),\n",
    "                      rotation = 0,\n",
    "                     horizontalalignment='center')\n",
    "by_programming_background_plot.set_title('Number of Data Scientists by programming experience', fontsize = 13)\n",
    "by_programming_background_plot.text(-0.5, 785, 'Most of Data Scientists have experience between 3-5 years and 5-10 years : 50 %',\n",
    "                                    fontsize = 13, fontweight = 'light',  fontfamily = 'serif')\n",
    "by_programming_background_plot.set( xlabel = 'Programming background', ylabel = 'Number of Data Scientists')\n",
    "\n",
    "sns.despine(bottom = False)"
   ]
  },
  {
   "cell_type": "markdown",
   "id": "temporal-remove",
   "metadata": {},
   "source": [
    "At first glance it is obvious that most participating data scientists , i.e. about 28 % have a programming background of 3-5 years , while 5-10 years has about 22 % , i.e. cumulatively about 50 per cent have a background of 3 - 10 years. It is noteworthy that 1-2 years has 16 % while 10 - 20 years has 14 % .  It also appears that under 1 year and over 20 years it has 8,7 % , respectively , while code has never written by 1,2 % data scientists(obvious)."
   ]
  },
  {
   "cell_type": "code",
   "execution_count": 67,
   "id": "continuous-education",
   "metadata": {},
   "outputs": [
    {
     "data": {
      "text/html": [
       "<div>\n",
       "<style scoped>\n",
       "    .dataframe tbody tr th:only-of-type {\n",
       "        vertical-align: middle;\n",
       "    }\n",
       "\n",
       "    .dataframe tbody tr th {\n",
       "        vertical-align: top;\n",
       "    }\n",
       "\n",
       "    .dataframe thead th {\n",
       "        text-align: right;\n",
       "    }\n",
       "</style>\n",
       "<table border=\"1\" class=\"dataframe\">\n",
       "  <thead>\n",
       "    <tr style=\"text-align: right;\">\n",
       "      <th></th>\n",
       "      <th>Annual_salary</th>\n",
       "      <th>Count</th>\n",
       "      <th>Percentage</th>\n",
       "    </tr>\n",
       "  </thead>\n",
       "  <tbody>\n",
       "    <tr>\n",
       "      <th>0</th>\n",
       "      <td>0-999</td>\n",
       "      <td>445</td>\n",
       "      <td>18.66</td>\n",
       "    </tr>\n",
       "    <tr>\n",
       "      <th>1</th>\n",
       "      <td>100000-124999</td>\n",
       "      <td>165</td>\n",
       "      <td>6.92</td>\n",
       "    </tr>\n",
       "    <tr>\n",
       "      <th>2</th>\n",
       "      <td>10000-14999</td>\n",
       "      <td>137</td>\n",
       "      <td>5.74</td>\n",
       "    </tr>\n",
       "    <tr>\n",
       "      <th>3</th>\n",
       "      <td>40000-49999</td>\n",
       "      <td>133</td>\n",
       "      <td>5.58</td>\n",
       "    </tr>\n",
       "    <tr>\n",
       "      <th>4</th>\n",
       "      <td>30000-39999</td>\n",
       "      <td>118</td>\n",
       "      <td>4.95</td>\n",
       "    </tr>\n",
       "    <tr>\n",
       "      <th>5</th>\n",
       "      <td>150000-199999</td>\n",
       "      <td>112</td>\n",
       "      <td>4.70</td>\n",
       "    </tr>\n",
       "    <tr>\n",
       "      <th>6</th>\n",
       "      <td>125000-149999</td>\n",
       "      <td>109</td>\n",
       "      <td>4.57</td>\n",
       "    </tr>\n",
       "    <tr>\n",
       "      <th>7</th>\n",
       "      <td>50000-59999</td>\n",
       "      <td>104</td>\n",
       "      <td>4.36</td>\n",
       "    </tr>\n",
       "    <tr>\n",
       "      <th>8</th>\n",
       "      <td>1000-1999</td>\n",
       "      <td>103</td>\n",
       "      <td>4.32</td>\n",
       "    </tr>\n",
       "    <tr>\n",
       "      <th>9</th>\n",
       "      <td>70000-79999</td>\n",
       "      <td>100</td>\n",
       "      <td>4.19</td>\n",
       "    </tr>\n",
       "  </tbody>\n",
       "</table>\n",
       "</div>"
      ],
      "text/plain": [
       "   Annual_salary  Count  Percentage\n",
       "0          0-999    445       18.66\n",
       "1  100000-124999    165        6.92\n",
       "2    10000-14999    137        5.74\n",
       "3    40000-49999    133        5.58\n",
       "4    30000-39999    118        4.95\n",
       "5  150000-199999    112        4.70\n",
       "6  125000-149999    109        4.57\n",
       "7    50000-59999    104        4.36\n",
       "8      1000-1999    103        4.32\n",
       "9    70000-79999    100        4.19"
      ]
     },
     "execution_count": 67,
     "metadata": {},
     "output_type": "execute_result"
    }
   ],
   "source": [
    "df_annual_salary = pd.DataFrame(dsc_df['annual_salary'].value_counts().reset_index(drop = False))\n",
    "df_annual_salary.columns = ['Annual_salary', 'Count']\n",
    "df_annual_salary = df_annual_salary.sort_values(by = 'Count', ascending = False)\n",
    "df_annual_salary['Percentage'] = round(df_annual_salary['Count'] / sum(df_annual_salary['Count']) * 100, 2)\n",
    "df_annual_salary.head(10)"
   ]
  },
  {
   "cell_type": "code",
   "execution_count": 70,
   "id": "moderate-appraisal",
   "metadata": {},
   "outputs": [
    {
     "data": {
      "image/png": "[encoded data removed]",
      "text/plain": [
       "<Figure size 720x432 with 1 Axes>"
      ]
     },
     "metadata": {},
     "output_type": "display_data"
    }
   ],
   "source": [
    "fig4, ax4 = plt.subplots(1,1, figsize=(10, 6))\n",
    "data_salary = dsc_df['annual_salary'].value_counts().sort_values(ascending = False)\n",
    "ax4.bar(data_salary.index, data_salary, width = 0.7,\n",
    "      edgecolor = 'black', color = 'purple', linewidth = 0.1, alpha = 0.4)\n",
    "\n",
    "for i in data_salary.index:\n",
    "    ax4.annotate(f\"{data_salary[i]}\",\n",
    "                xy=(i, data_salary[i] + 7),\n",
    "                   va = 'center', ha='center',fontweight='light', \n",
    "                   color='black', fontsize = 13)\n",
    "ax4.set_title('Number of Data Scientists by annual salary', fontsize = 20)\n",
    "ax4.set(ylabel = 'Number of Data Scientists', xlabel = 'Annual salary')\n",
    "plt.xticks(rotation = 90)\n",
    "plt.show()"
   ]
  },
  {
   "cell_type": "markdown",
   "id": "living-officer",
   "metadata": {},
   "source": [
    "1) Most data scientists are under 34, while peak age is the range of 25-29 years.\n",
    "\n",
    "2) The top 5 countries representing the role of data scientist are India, the United States of America, from countries not included in the survey,(Others), Brazil and the UK.Orangutans appear to be Belarus, Ireland, Nepal, Ghana and Sri Lanka.\n",
    "\n",
    "3) The number of European countries is 19. The UK appears to be a leading country among European countries, while the European five are complemented by Russia, France, Germany and Spain.Greece , Romania , Belgium and Belarus seem to explain a small part of the data scientists , being in the last five of Europe.\n",
    "\n",
    "4) The role of the data scientist is explained less, cumulatively, by the African continent. However, among them Nigeria appears to be the main representative , with almost three times the number of the second African country in South Africa.The role of the data scientist is explained less, cumulatively, by the African continent. However, among them Nigeria appears to be the main representative , with almost three times the number of the second African country in South Africa. At the same time, Egypt, Tunisia and Ghana have few representatives of data scientists, being the countries of Africa with the least participation.\n",
    "\n",
    "5) As far as Asian countries are concerned, India seems to represent not only , globally , but also among major Asian countries such as Japan and China , the largest percentage of data scientists.In fact, the number of data scientists in India is almost 7 times higher than the second Asian country - Japan.At the same time , the Country of Australia has a lower participation rate , about 36 entries of data scientists.\n",
    "\n",
    "6) Among the countries of the America , as we observed data scientists come overwhelmingly from the United States of America , having almost 3 times the number of participants from the second Brazil. Canada, Mexico and Colombia lock down the first 5th of the American Continent.\n",
    "\n",
    "7) When it comes to the gender of data scientists around the world - 83 per cent are made up of men - 15 per cent are female - while a minimum percentage of data scientists have not given a specific answer.\n",
    "\n",
    "\n",
    "8) Noteworthy is that the largest percentage of men are from 25-29 and 30-34. Nearly half of male data scientists are aged 25-34. Exactly the same pattern is observed in the case of women almost half of the women in data science belong to the same range, while in cases more than 50 % are under 34 years of age.\n",
    "\n",
    "9) Subsequently , the largest number of male data scientists belong to the country of India . In fact, in India, women represent the largest percentage of data scientists among women worldwide. However, the number of men is almost three times that of women in India.In second place among male data scientists, the United States of America has almost 1.5 times fewer representatives than the first India , while female data scientists are in second place among women , slightly fewer than India.Third place is men in the 'Others' category, with almost four times fewer scientists given than men in India, while female data scientists from other countries are in fourth place, behind the third UK.Fourth place among male data scientists belongs to Brazil having almost 4 times fewer male participants than India, while female data scientists from Brazil are in 5th place behind women in the UK and others.The UK is ranked fifth among male data scientists , while women in the same country are ranked third among female data scientists.\n",
    "\n",
    "10) As far as the educational level of data scientists is concerned, we note that almost half have a master's degree, i.e. about 50 per cent have a master's degree. Then , about 23 per cent have only an undergraduate degree , while about 20 per cent hold a PhD.\n",
    "\n",
    "11) It is noteworthy that almost 50 % of male data scientists have a master's degree. Among female data scientists, half of women hold a master's degree, while exactly the same percentage of women have an undergraduate degree or hold a Doctoral degree.\n",
    "\n",
    "12) Αdditionaly,  it is obvious that most participating data scientists , i.e. about 28 % have a programming background of 3-5 years , while 5-10 years has about 22 % , i.e. cumulatively about 50 per cent have a background of 3 - 10 years. It is noteworthy that 1-2 years has 16 % while 10 - 20 years has 14 % .  It also appears that under 1 year and over 20 years it has 8,7 % , respectively , while code has never written by 1,2 % data scientists(obvious).\n",
    "\n",
    "13) Data scientists Annual salary:\n",
    "\n",
    "          We can extract these interesting things :\n",
    "\n",
    "1.Most data scientists - i.e. 18.6 % have an annual income of USD 0 -999 - which is extremely worrying because it seems that a large proportion of respondents may have answered for monthly income.\n",
    "\n",
    "2.In second place we note that 7 per cent receive 100K - 124.49K , while about 6 per cent from 10K - 14.9K.\n",
    "\n",
    "3.The assumption that those who have answered that they receive annually from 0 - 999 , could be added to the range 100K - 149.49K , shows us that more than 20 percent , i.e. 1/5 of data scientists , possibly receives from 100Κ - 149.49 K. \n",
    "\n",
    "4.In addition, we note that cumulatively about 1.5 per cent receive more than 250K a year.\n",
    "\n",
    "5.In conclusion, what can be said is that it also depends on the country, because wages vary from country to country."
   ]
  }
 ],
 "metadata": {
  "kernelspec": {
   "display_name": "Python 3",
   "language": "python",
   "name": "python3"
  },
  "language_info": {
   "codemirror_mode": {
    "name": "ipython",
    "version": 3
   },
   "file_extension": ".py",
   "mimetype": "text/x-python",
   "name": "python",
   "nbconvert_exporter": "python",
   "pygments_lexer": "ipython3",
   "version": "3.9.1"
  }
 },
 "nbformat": 4,
 "nbformat_minor": 5
}
